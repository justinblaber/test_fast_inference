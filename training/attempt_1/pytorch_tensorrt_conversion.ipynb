{
 "cells": [
  {
   "cell_type": "markdown",
   "metadata": {},
   "source": [
    "Just copy and slightly modify the `pytorch_tensorrt_conversion.ipynb` notebook here and rerun it for this trained model."
   ]
  },
  {
   "cell_type": "code",
   "execution_count": 1,
   "metadata": {
    "ExecuteTime": {
     "end_time": "2020-10-07T22:09:44.512339Z",
     "start_time": "2020-10-07T22:09:44.266823Z"
    }
   },
   "outputs": [],
   "source": [
    "import sys\n",
    "import torch\n",
    "from torch import nn\n",
    "from pathlib import Path\n",
    "import numpy as np\n",
    "import matplotlib.pyplot as plt"
   ]
  },
  {
   "cell_type": "code",
   "execution_count": 3,
   "metadata": {
    "ExecuteTime": {
     "end_time": "2020-10-07T22:09:45.215126Z",
     "start_time": "2020-10-07T22:09:45.211594Z"
    }
   },
   "outputs": [],
   "source": [
    "sys.path.append('../../')"
   ]
  },
  {
   "cell_type": "code",
   "execution_count": 4,
   "metadata": {
    "ExecuteTime": {
     "end_time": "2020-10-07T22:09:45.607033Z",
     "start_time": "2020-10-07T22:09:45.598734Z"
    }
   },
   "outputs": [],
   "source": [
    "from test_fast_inference.pytorch_tensorrt_conversion import *"
   ]
  },
  {
   "cell_type": "markdown",
   "metadata": {},
   "source": [
    "# Create model"
   ]
  },
  {
   "cell_type": "code",
   "execution_count": 5,
   "metadata": {
    "ExecuteTime": {
     "end_time": "2020-10-07T22:10:11.249690Z",
     "start_time": "2020-10-07T22:10:11.229955Z"
    }
   },
   "outputs": [],
   "source": [
    "in_channels  = 1\n",
    "out_channels = 5\n",
    "layout_encoder = [[[32,5,2,2]],\n",
    "                  [[32,3,1,1],[32,3,2,1]],\n",
    "                  [[64,3,1,1],[64,3,2,1]],\n",
    "                  [[128,3,1,1],[128,3,2,1]]]\n",
    "model = UNET_TRT(get_encoder(in_channels, layout_encoder), out_channels)"
   ]
  },
  {
   "cell_type": "code",
   "execution_count": 6,
   "metadata": {
    "ExecuteTime": {
     "end_time": "2020-10-07T22:10:13.342220Z",
     "start_time": "2020-10-07T22:10:12.205530Z"
    }
   },
   "outputs": [],
   "source": [
    "model.load_state_dict(torch.load('checkpoints/best.pth')['model'])\n",
    "model = model.to('cuda')\n",
    "model = model.eval()"
   ]
  },
  {
   "cell_type": "code",
   "execution_count": 7,
   "metadata": {
    "ExecuteTime": {
     "end_time": "2020-10-07T22:10:34.993305Z",
     "start_time": "2020-10-07T22:10:34.983509Z"
    }
   },
   "outputs": [
    {
     "data": {
      "text/plain": [
       "UNET_TRT(\n",
       "  (encoder): Sequential(\n",
       "    (0): Sequential(\n",
       "      (0): Sequential(\n",
       "        (0): Conv2d(1, 32, kernel_size=(5, 5), stride=(2, 2), padding=(2, 2), bias=False)\n",
       "        (1): InstanceNorm2d(32, eps=1e-05, momentum=0.1, affine=True, track_running_stats=False)\n",
       "        (2): ReLU(inplace=True)\n",
       "      )\n",
       "    )\n",
       "    (1): Sequential(\n",
       "      (0): Sequential(\n",
       "        (0): Conv2d(32, 32, kernel_size=(3, 3), stride=(1, 1), padding=(1, 1), bias=False)\n",
       "        (1): InstanceNorm2d(32, eps=1e-05, momentum=0.1, affine=True, track_running_stats=False)\n",
       "        (2): ReLU(inplace=True)\n",
       "      )\n",
       "      (1): Sequential(\n",
       "        (0): Conv2d(32, 32, kernel_size=(3, 3), stride=(2, 2), padding=(1, 1), bias=False)\n",
       "        (1): InstanceNorm2d(32, eps=1e-05, momentum=0.1, affine=True, track_running_stats=False)\n",
       "        (2): ReLU(inplace=True)\n",
       "      )\n",
       "    )\n",
       "    (2): Sequential(\n",
       "      (0): Sequential(\n",
       "        (0): Conv2d(32, 64, kernel_size=(3, 3), stride=(1, 1), padding=(1, 1), bias=False)\n",
       "        (1): InstanceNorm2d(64, eps=1e-05, momentum=0.1, affine=True, track_running_stats=False)\n",
       "        (2): ReLU(inplace=True)\n",
       "      )\n",
       "      (1): Sequential(\n",
       "        (0): Conv2d(64, 64, kernel_size=(3, 3), stride=(2, 2), padding=(1, 1), bias=False)\n",
       "        (1): InstanceNorm2d(64, eps=1e-05, momentum=0.1, affine=True, track_running_stats=False)\n",
       "        (2): ReLU(inplace=True)\n",
       "      )\n",
       "    )\n",
       "    (3): Sequential(\n",
       "      (0): Sequential(\n",
       "        (0): Conv2d(64, 128, kernel_size=(3, 3), stride=(1, 1), padding=(1, 1), bias=False)\n",
       "        (1): InstanceNorm2d(128, eps=1e-05, momentum=0.1, affine=True, track_running_stats=False)\n",
       "        (2): ReLU(inplace=True)\n",
       "      )\n",
       "      (1): Sequential(\n",
       "        (0): Conv2d(128, 128, kernel_size=(3, 3), stride=(2, 2), padding=(1, 1), bias=False)\n",
       "        (1): InstanceNorm2d(128, eps=1e-05, momentum=0.1, affine=True, track_running_stats=False)\n",
       "        (2): ReLU(inplace=True)\n",
       "      )\n",
       "    )\n",
       "  )\n",
       "  (decoder): Sequential(\n",
       "    (0): Sequential(\n",
       "      (0): Sequential(\n",
       "        (0): Conv2d(128, 64, kernel_size=(3, 3), stride=(1, 1), padding=(1, 1), bias=False)\n",
       "        (1): InstanceNorm2d(64, eps=1e-05, momentum=0.1, affine=True, track_running_stats=False)\n",
       "        (2): ReLU(inplace=True)\n",
       "      )\n",
       "      (1): ConvTranspose2d(64, 64, kernel_size=(2, 2), stride=(2, 2))\n",
       "    )\n",
       "    (1): Sequential(\n",
       "      (0): Sequential(\n",
       "        (0): Conv2d(128, 32, kernel_size=(3, 3), stride=(1, 1), padding=(1, 1), bias=False)\n",
       "        (1): InstanceNorm2d(32, eps=1e-05, momentum=0.1, affine=True, track_running_stats=False)\n",
       "        (2): ReLU(inplace=True)\n",
       "      )\n",
       "      (1): ConvTranspose2d(32, 32, kernel_size=(2, 2), stride=(2, 2))\n",
       "    )\n",
       "    (2): Sequential(\n",
       "      (0): Sequential(\n",
       "        (0): Conv2d(64, 16, kernel_size=(3, 3), stride=(1, 1), padding=(1, 1), bias=False)\n",
       "        (1): InstanceNorm2d(16, eps=1e-05, momentum=0.1, affine=True, track_running_stats=False)\n",
       "        (2): ReLU(inplace=True)\n",
       "      )\n",
       "      (1): ConvTranspose2d(16, 16, kernel_size=(2, 2), stride=(2, 2))\n",
       "    )\n",
       "    (3): Sequential(\n",
       "      (0): Sequential(\n",
       "        (0): Conv2d(48, 16, kernel_size=(3, 3), stride=(1, 1), padding=(1, 1), bias=False)\n",
       "        (1): InstanceNorm2d(16, eps=1e-05, momentum=0.1, affine=True, track_running_stats=False)\n",
       "        (2): ReLU(inplace=True)\n",
       "      )\n",
       "      (1): ConvTranspose2d(16, 16, kernel_size=(2, 2), stride=(2, 2))\n",
       "    )\n",
       "  )\n",
       "  (last_conv): Conv2d(16, 5, kernel_size=(3, 3), stride=(1, 1), padding=(1, 1))\n",
       ")"
      ]
     },
     "execution_count": 7,
     "metadata": {},
     "output_type": "execute_result"
    }
   ],
   "source": [
    "model"
   ]
  },
  {
   "cell_type": "code",
   "execution_count": 14,
   "metadata": {
    "ExecuteTime": {
     "end_time": "2020-10-07T14:42:38.976893Z",
     "start_time": "2020-10-07T14:42:38.948302Z"
    }
   },
   "outputs": [],
   "source": [
    "X = np.fromfile('../../batches/X0.raw', dtype=np.float32).reshape(1, 1, 384, 512)\n",
    "X = torch.from_numpy(X).cuda()"
   ]
  },
  {
   "cell_type": "code",
   "execution_count": 15,
   "metadata": {
    "ExecuteTime": {
     "end_time": "2020-10-07T14:42:40.417772Z",
     "start_time": "2020-10-07T14:42:40.415268Z"
    }
   },
   "outputs": [
    {
     "data": {
      "text/plain": [
       "<torch.autograd.grad_mode.set_grad_enabled at 0x7f9d62748d10>"
      ]
     },
     "execution_count": 15,
     "metadata": {},
     "output_type": "execute_result"
    }
   ],
   "source": [
    "torch.set_grad_enabled(False) "
   ]
  },
  {
   "cell_type": "code",
   "execution_count": 16,
   "metadata": {
    "ExecuteTime": {
     "end_time": "2020-10-07T14:42:42.656779Z",
     "start_time": "2020-10-07T14:42:41.121475Z"
    }
   },
   "outputs": [],
   "source": [
    "y = model(X)\n",
    "torch.cuda.synchronize()"
   ]
  },
  {
   "cell_type": "code",
   "execution_count": 17,
   "metadata": {
    "ExecuteTime": {
     "end_time": "2020-10-07T14:42:48.295506Z",
     "start_time": "2020-10-07T14:42:44.430777Z"
    },
    "deletable": false,
    "editable": false,
    "run_control": {
     "frozen": true
    }
   },
   "outputs": [
    {
     "name": "stdout",
     "output_type": "stream",
     "text": [
      "4.69 ms ± 73.5 µs per loop (mean ± std. dev. of 7 runs, 100 loops each)\n"
     ]
    }
   ],
   "source": [
    "%%timeit\n",
    "y = model(X)\n",
    "torch.cuda.synchronize()"
   ]
  },
  {
   "cell_type": "code",
   "execution_count": 18,
   "metadata": {
    "ExecuteTime": {
     "end_time": "2020-10-07T14:42:51.507501Z",
     "start_time": "2020-10-07T14:42:51.504288Z"
    },
    "deletable": false,
    "editable": false,
    "run_control": {
     "frozen": true
    },
    "scrolled": true
   },
   "outputs": [
    {
     "data": {
      "text/plain": [
       "4.975111484527588"
      ]
     },
     "execution_count": 18,
     "metadata": {},
     "output_type": "execute_result"
    }
   ],
   "source": [
    "y[0,0,0,0].item()"
   ]
  },
  {
   "cell_type": "code",
   "execution_count": 19,
   "metadata": {
    "ExecuteTime": {
     "end_time": "2020-10-07T14:42:54.331033Z",
     "start_time": "2020-10-07T14:42:54.197486Z"
    },
    "deletable": false,
    "editable": false,
    "run_control": {
     "frozen": true
    },
    "scrolled": false
   },
   "outputs": [
    {
     "data": {
      "text/plain": [
       "<matplotlib.image.AxesImage at 0x7f9d02088a10>"
      ]
     },
     "execution_count": 19,
     "metadata": {},
     "output_type": "execute_result"
    },
    {
     "data": {
      "image/png": "[encoded data removed]",
      "text/plain": [
       "<Figure size 504x504 with 1 Axes>"
      ]
     },
     "metadata": {
      "needs_background": "light"
     },
     "output_type": "display_data"
    }
   ],
   "source": [
    "plt.figure(figsize=(7, 7))\n",
    "plt.imshow(y.argmax(dim=1)[0].cpu().numpy(), vmin=0, vmax=4)"
   ]
  },
  {
   "cell_type": "markdown",
   "metadata": {},
   "source": [
    "# Convert to onnx"
   ]
  },
  {
   "cell_type": "code",
   "execution_count": 20,
   "metadata": {
    "ExecuteTime": {
     "end_time": "2020-10-07T14:43:05.615004Z",
     "start_time": "2020-10-07T14:43:05.493104Z"
    }
   },
   "outputs": [],
   "source": [
    "import onnx\n",
    "import torch.onnx\n",
    "import onnxruntime as nxrun"
   ]
  },
  {
   "cell_type": "code",
   "execution_count": 21,
   "metadata": {
    "ExecuteTime": {
     "end_time": "2020-10-07T14:43:07.448408Z",
     "start_time": "2020-10-07T14:43:07.231447Z"
    },
    "scrolled": true
   },
   "outputs": [],
   "source": [
    "torch.onnx.export(model,\n",
    "                  X,\n",
    "                  'model.onnx',\n",
    "                  export_params=True,\n",
    "                  verbose=False)"
   ]
  },
  {
   "cell_type": "code",
   "execution_count": 22,
   "metadata": {
    "ExecuteTime": {
     "end_time": "2020-10-07T14:43:08.456489Z",
     "start_time": "2020-10-07T14:43:08.376302Z"
    }
   },
   "outputs": [],
   "source": [
    "sess = nxrun.InferenceSession('model.onnx')\n",
    "input_name = sess.get_inputs()[0].name\n",
    "label_name = sess.get_outputs()[0].name\n",
    "y = sess.run(None, {input_name: X.cpu().numpy()})[0]"
   ]
  },
  {
   "cell_type": "code",
   "execution_count": 23,
   "metadata": {
    "ExecuteTime": {
     "end_time": "2020-10-07T14:43:13.363659Z",
     "start_time": "2020-10-07T14:43:13.357832Z"
    },
    "deletable": false,
    "editable": false,
    "run_control": {
     "frozen": true
    }
   },
   "outputs": [
    {
     "data": {
      "text/plain": [
       "4.975112438201904"
      ]
     },
     "execution_count": 23,
     "metadata": {},
     "output_type": "execute_result"
    }
   ],
   "source": [
    "y[0,0,0,0].item()"
   ]
  },
  {
   "cell_type": "code",
   "execution_count": 24,
   "metadata": {
    "ExecuteTime": {
     "end_time": "2020-10-07T14:43:14.230364Z",
     "start_time": "2020-10-07T14:43:14.120164Z"
    },
    "deletable": false,
    "editable": false,
    "run_control": {
     "frozen": true
    }
   },
   "outputs": [
    {
     "data": {
      "text/plain": [
       "<matplotlib.image.AxesImage at 0x7f9cbc22ba90>"
      ]
     },
     "execution_count": 24,
     "metadata": {},
     "output_type": "execute_result"
    },
    {
     "data": {
      "image/png": "[encoded data removed]",
      "text/plain": [
       "<Figure size 504x504 with 1 Axes>"
      ]
     },
     "metadata": {
      "needs_background": "light"
     },
     "output_type": "display_data"
    }
   ],
   "source": [
    "plt.figure(figsize=(7, 7))\n",
    "plt.imshow(y.argmax(axis=1)[0], vmin=0, vmax=4)"
   ]
  },
  {
   "cell_type": "markdown",
   "metadata": {},
   "source": [
    "# Onnx to tensorrt (32 bit)"
   ]
  },
  {
   "cell_type": "code",
   "execution_count": 25,
   "metadata": {
    "ExecuteTime": {
     "end_time": "2020-10-07T14:43:22.676463Z",
     "start_time": "2020-10-07T14:43:22.297479Z"
    }
   },
   "outputs": [],
   "source": [
    "import pycuda.autoinit\n",
    "import pycuda.driver as cuda\n",
    "\n",
    "import tensorrt as trt"
   ]
  },
  {
   "cell_type": "code",
   "execution_count": 26,
   "metadata": {
    "ExecuteTime": {
     "end_time": "2020-10-07T14:43:23.498869Z",
     "start_time": "2020-10-07T14:43:23.496839Z"
    }
   },
   "outputs": [],
   "source": [
    "logger = trt.Logger(trt.Logger.VERBOSE)"
   ]
  },
  {
   "cell_type": "markdown",
   "metadata": {},
   "source": [
    "Create engine"
   ]
  },
  {
   "cell_type": "code",
   "execution_count": 27,
   "metadata": {
    "ExecuteTime": {
     "end_time": "2020-10-07T14:43:29.363682Z",
     "start_time": "2020-10-07T14:43:24.882399Z"
    }
   },
   "outputs": [],
   "source": [
    "EXPLICIT_BATCH = 1 << (int)(trt.NetworkDefinitionCreationFlag.EXPLICIT_BATCH)\n",
    "builder = trt.Builder(logger)\n",
    "network = builder.create_network(EXPLICIT_BATCH)\n",
    "parser = trt.OnnxParser(network, logger)\n",
    "parser.parse_from_file('model.onnx')\n",
    "config = builder.create_builder_config()\n",
    "config.max_workspace_size = 1 << 16\n",
    "engine = builder.build_engine(network, config)"
   ]
  },
  {
   "cell_type": "markdown",
   "metadata": {},
   "source": [
    "Save engine"
   ]
  },
  {
   "cell_type": "code",
   "execution_count": 28,
   "metadata": {
    "ExecuteTime": {
     "end_time": "2020-10-07T14:43:31.437309Z",
     "start_time": "2020-10-07T14:43:31.401083Z"
    }
   },
   "outputs": [],
   "source": [
    "with open('model_32.engine', 'wb') as f:\n",
    "    f.write(bytearray(engine.serialize()))"
   ]
  },
  {
   "cell_type": "markdown",
   "metadata": {},
   "source": [
    "Load engine"
   ]
  },
  {
   "cell_type": "code",
   "execution_count": 29,
   "metadata": {
    "ExecuteTime": {
     "end_time": "2020-10-07T14:43:33.672427Z",
     "start_time": "2020-10-07T14:43:33.651965Z"
    }
   },
   "outputs": [],
   "source": [
    "runtime = trt.Runtime(logger)\n",
    "with open('model_32.engine', 'rb') as f:\n",
    "    engine = runtime.deserialize_cuda_engine(f.read())"
   ]
  },
  {
   "cell_type": "markdown",
   "metadata": {},
   "source": [
    "Allocate host/device buffers"
   ]
  },
  {
   "cell_type": "code",
   "execution_count": 30,
   "metadata": {
    "ExecuteTime": {
     "end_time": "2020-10-07T14:43:35.186714Z",
     "start_time": "2020-10-07T14:43:35.172666Z"
    }
   },
   "outputs": [],
   "source": [
    "X_h = cuda.pagelocked_empty(trt.volume(engine.get_binding_shape(0)), dtype=np.float32)\n",
    "y_h = cuda.pagelocked_empty(trt.volume(engine.get_binding_shape(1)), dtype=np.float32)\n",
    "X_d = cuda.mem_alloc(X_h.nbytes)\n",
    "y_d = cuda.mem_alloc(y_h.nbytes)"
   ]
  },
  {
   "cell_type": "code",
   "execution_count": 31,
   "metadata": {
    "ExecuteTime": {
     "end_time": "2020-10-07T14:43:38.617868Z",
     "start_time": "2020-10-07T14:43:38.615251Z"
    }
   },
   "outputs": [],
   "source": [
    "with open('../../batches/X0.raw', 'rb') as f:\n",
    "    f.readinto(X_h)"
   ]
  },
  {
   "cell_type": "code",
   "execution_count": 32,
   "metadata": {
    "ExecuteTime": {
     "end_time": "2020-10-07T14:43:39.805974Z",
     "start_time": "2020-10-07T14:43:39.801000Z"
    }
   },
   "outputs": [],
   "source": [
    "context = engine.create_execution_context()\n",
    "stream = cuda.Stream()"
   ]
  },
  {
   "cell_type": "code",
   "execution_count": 33,
   "metadata": {
    "ExecuteTime": {
     "end_time": "2020-10-07T14:43:40.473170Z",
     "start_time": "2020-10-07T14:43:40.467676Z"
    }
   },
   "outputs": [],
   "source": [
    "cuda.memcpy_htod_async(X_d, X_h, stream)    # Transfer input data to the GPU.\n",
    "stream.synchronize() "
   ]
  },
  {
   "cell_type": "code",
   "execution_count": 34,
   "metadata": {
    "ExecuteTime": {
     "end_time": "2020-10-07T14:43:41.580374Z",
     "start_time": "2020-10-07T14:43:41.548024Z"
    }
   },
   "outputs": [],
   "source": [
    "context.execute_async(bindings=[int(X_d), int(y_d)], stream_handle=stream.handle) # Run inference.\n",
    "stream.synchronize()   "
   ]
  },
  {
   "cell_type": "code",
   "execution_count": 35,
   "metadata": {
    "ExecuteTime": {
     "end_time": "2020-10-07T14:43:46.188769Z",
     "start_time": "2020-10-07T14:43:43.795664Z"
    },
    "deletable": false,
    "editable": false,
    "run_control": {
     "frozen": true
    }
   },
   "outputs": [
    {
     "name": "stdout",
     "output_type": "stream",
     "text": [
      "2.85 ms ± 110 µs per loop (mean ± std. dev. of 7 runs, 100 loops each)\n"
     ]
    }
   ],
   "source": [
    "%%timeit\n",
    "context.execute_async(bindings=[int(X_d), int(y_d)], stream_handle=stream.handle) # Run inference.\n",
    "stream.synchronize()"
   ]
  },
  {
   "cell_type": "code",
   "execution_count": 36,
   "metadata": {
    "ExecuteTime": {
     "end_time": "2020-10-07T14:43:48.670312Z",
     "start_time": "2020-10-07T14:43:48.667942Z"
    }
   },
   "outputs": [],
   "source": [
    "cuda.memcpy_dtoh_async(y_h, y_d, stream)\n",
    "stream.synchronize()"
   ]
  },
  {
   "cell_type": "code",
   "execution_count": 37,
   "metadata": {
    "ExecuteTime": {
     "end_time": "2020-10-07T14:43:49.209504Z",
     "start_time": "2020-10-07T14:43:49.204027Z"
    }
   },
   "outputs": [],
   "source": [
    "y_h = y_h.reshape(engine.get_binding_shape(1))"
   ]
  },
  {
   "cell_type": "code",
   "execution_count": 38,
   "metadata": {
    "ExecuteTime": {
     "end_time": "2020-10-07T14:43:51.524722Z",
     "start_time": "2020-10-07T14:43:51.521846Z"
    },
    "deletable": false,
    "editable": false,
    "run_control": {
     "frozen": true
    }
   },
   "outputs": [
    {
     "data": {
      "text/plain": [
       "4.975111961364746"
      ]
     },
     "execution_count": 38,
     "metadata": {},
     "output_type": "execute_result"
    }
   ],
   "source": [
    "y_h[0][0][0][0].item()"
   ]
  },
  {
   "cell_type": "code",
   "execution_count": 39,
   "metadata": {
    "ExecuteTime": {
     "end_time": "2020-10-07T14:43:54.804736Z",
     "start_time": "2020-10-07T14:43:54.692917Z"
    },
    "deletable": false,
    "editable": false,
    "run_control": {
     "frozen": true
    }
   },
   "outputs": [
    {
     "data": {
      "text/plain": [
       "<matplotlib.image.AxesImage at 0x7f9cbc2127d0>"
      ]
     },
     "execution_count": 39,
     "metadata": {},
     "output_type": "execute_result"
    },
    {
     "data": {
      "image/png": "[encoded data removed]",
      "text/plain": [
       "<Figure size 504x504 with 1 Axes>"
      ]
     },
     "metadata": {
      "needs_background": "light"
     },
     "output_type": "display_data"
    }
   ],
   "source": [
    "plt.figure(figsize=(7, 7))\n",
    "plt.imshow(np.argmax(y_h, axis=1).squeeze(), vmin=0, vmax=4)"
   ]
  },
  {
   "cell_type": "markdown",
   "metadata": {},
   "source": [
    "# Onnx to tensorrt (16 bit)"
   ]
  },
  {
   "cell_type": "code",
   "execution_count": 40,
   "metadata": {
    "ExecuteTime": {
     "end_time": "2020-10-07T14:44:02.202536Z",
     "start_time": "2020-10-07T14:44:02.200092Z"
    }
   },
   "outputs": [],
   "source": [
    "import pycuda.autoinit\n",
    "import pycuda.driver as cuda\n",
    "\n",
    "import tensorrt as trt"
   ]
  },
  {
   "cell_type": "code",
   "execution_count": 41,
   "metadata": {
    "ExecuteTime": {
     "end_time": "2020-10-07T14:44:02.988928Z",
     "start_time": "2020-10-07T14:44:02.986613Z"
    }
   },
   "outputs": [],
   "source": [
    "logger = trt.Logger(trt.Logger.VERBOSE)"
   ]
  },
  {
   "cell_type": "markdown",
   "metadata": {},
   "source": [
    "Create engine"
   ]
  },
  {
   "cell_type": "code",
   "execution_count": 42,
   "metadata": {
    "ExecuteTime": {
     "end_time": "2020-10-07T14:44:12.498409Z",
     "start_time": "2020-10-07T14:44:04.227807Z"
    }
   },
   "outputs": [],
   "source": [
    "EXPLICIT_BATCH = 1 << (int)(trt.NetworkDefinitionCreationFlag.EXPLICIT_BATCH)\n",
    "builder = trt.Builder(logger)\n",
    "network = builder.create_network(EXPLICIT_BATCH)\n",
    "parser = trt.OnnxParser(network, logger)\n",
    "parser.parse_from_file('model.onnx')\n",
    "config = builder.create_builder_config()\n",
    "config.max_workspace_size = 1 << 16\n",
    "config.set_flag(trt.BuilderFlag.FP16)\n",
    "# config.set_flag(trt.BuilderFlag.STRICT_TYPES) # This will force it\n",
    "engine = builder.build_engine(network, config)"
   ]
  },
  {
   "cell_type": "markdown",
   "metadata": {},
   "source": [
    "Save engine"
   ]
  },
  {
   "cell_type": "code",
   "execution_count": 43,
   "metadata": {
    "ExecuteTime": {
     "end_time": "2020-10-07T14:44:14.549081Z",
     "start_time": "2020-10-07T14:44:14.542513Z"
    }
   },
   "outputs": [],
   "source": [
    "with open('model_16.engine', 'wb') as f:\n",
    "    f.write(bytearray(engine.serialize()))"
   ]
  },
  {
   "cell_type": "markdown",
   "metadata": {},
   "source": [
    "Load engine"
   ]
  },
  {
   "cell_type": "code",
   "execution_count": 44,
   "metadata": {
    "ExecuteTime": {
     "end_time": "2020-10-07T14:44:15.430235Z",
     "start_time": "2020-10-07T14:44:15.416008Z"
    }
   },
   "outputs": [],
   "source": [
    "runtime = trt.Runtime(logger)\n",
    "with open('model_16.engine', 'rb') as f:\n",
    "    engine = runtime.deserialize_cuda_engine(f.read())"
   ]
  },
  {
   "cell_type": "markdown",
   "metadata": {},
   "source": [
    "Allocate host/device buffers"
   ]
  },
  {
   "cell_type": "code",
   "execution_count": 45,
   "metadata": {
    "ExecuteTime": {
     "end_time": "2020-10-07T14:44:17.725882Z",
     "start_time": "2020-10-07T14:44:17.721278Z"
    }
   },
   "outputs": [],
   "source": [
    "X_h = cuda.pagelocked_empty(trt.volume(engine.get_binding_shape(0)), dtype=np.float32)\n",
    "y_h = cuda.pagelocked_empty(trt.volume(engine.get_binding_shape(1)), dtype=np.float32)\n",
    "X_d = cuda.mem_alloc(X_h.nbytes)\n",
    "y_d = cuda.mem_alloc(y_h.nbytes)"
   ]
  },
  {
   "cell_type": "code",
   "execution_count": 46,
   "metadata": {
    "ExecuteTime": {
     "end_time": "2020-10-07T14:44:23.323907Z",
     "start_time": "2020-10-07T14:44:23.318158Z"
    }
   },
   "outputs": [],
   "source": [
    "with open('../../batches/X0.raw', 'rb') as f:\n",
    "    f.readinto(X_h)"
   ]
  },
  {
   "cell_type": "code",
   "execution_count": 47,
   "metadata": {
    "ExecuteTime": {
     "end_time": "2020-10-07T14:44:24.541484Z",
     "start_time": "2020-10-07T14:44:24.536448Z"
    }
   },
   "outputs": [],
   "source": [
    "context = engine.create_execution_context()\n",
    "stream = cuda.Stream()"
   ]
  },
  {
   "cell_type": "code",
   "execution_count": 48,
   "metadata": {
    "ExecuteTime": {
     "end_time": "2020-10-07T14:44:24.908280Z",
     "start_time": "2020-10-07T14:44:24.902094Z"
    }
   },
   "outputs": [],
   "source": [
    "cuda.memcpy_htod_async(X_d, X_h, stream)    # Transfer input data to the GPU.\n",
    "stream.synchronize() "
   ]
  },
  {
   "cell_type": "code",
   "execution_count": 49,
   "metadata": {
    "ExecuteTime": {
     "end_time": "2020-10-07T14:44:26.038856Z",
     "start_time": "2020-10-07T14:44:26.027907Z"
    }
   },
   "outputs": [],
   "source": [
    "context.execute_async(bindings=[int(X_d), int(y_d)], stream_handle=stream.handle) # Run inference.\n",
    "stream.synchronize()   "
   ]
  },
  {
   "cell_type": "code",
   "execution_count": 50,
   "metadata": {
    "ExecuteTime": {
     "end_time": "2020-10-07T14:44:29.750288Z",
     "start_time": "2020-10-07T14:44:27.999515Z"
    },
    "deletable": false,
    "editable": false,
    "run_control": {
     "frozen": true
    }
   },
   "outputs": [
    {
     "name": "stdout",
     "output_type": "stream",
     "text": [
      "2.07 ms ± 79.8 µs per loop (mean ± std. dev. of 7 runs, 100 loops each)\n"
     ]
    }
   ],
   "source": [
    "%%timeit\n",
    "context.execute_async(bindings=[int(X_d), int(y_d)], stream_handle=stream.handle) # Run inference.\n",
    "stream.synchronize()"
   ]
  },
  {
   "cell_type": "code",
   "execution_count": 51,
   "metadata": {
    "ExecuteTime": {
     "end_time": "2020-10-07T14:44:31.678574Z",
     "start_time": "2020-10-07T14:44:31.670705Z"
    }
   },
   "outputs": [],
   "source": [
    "cuda.memcpy_dtoh_async(y_h, y_d, stream)\n",
    "stream.synchronize()"
   ]
  },
  {
   "cell_type": "code",
   "execution_count": 52,
   "metadata": {
    "ExecuteTime": {
     "end_time": "2020-10-07T14:44:32.131896Z",
     "start_time": "2020-10-07T14:44:32.128224Z"
    }
   },
   "outputs": [],
   "source": [
    "y_h = y_h.reshape(engine.get_binding_shape(1))"
   ]
  },
  {
   "cell_type": "code",
   "execution_count": 53,
   "metadata": {
    "ExecuteTime": {
     "end_time": "2020-10-07T14:44:36.542357Z",
     "start_time": "2020-10-07T14:44:36.536486Z"
    },
    "deletable": false,
    "editable": false,
    "run_control": {
     "frozen": true
    }
   },
   "outputs": [
    {
     "data": {
      "text/plain": [
       "4.98046875"
      ]
     },
     "execution_count": 53,
     "metadata": {},
     "output_type": "execute_result"
    }
   ],
   "source": [
    "y_h[0][0][0][0].item()"
   ]
  },
  {
   "cell_type": "code",
   "execution_count": 54,
   "metadata": {
    "ExecuteTime": {
     "end_time": "2020-10-07T14:44:37.243045Z",
     "start_time": "2020-10-07T14:44:37.134087Z"
    },
    "deletable": false,
    "editable": false,
    "run_control": {
     "frozen": true
    }
   },
   "outputs": [
    {
     "data": {
      "text/plain": [
       "<matplotlib.image.AxesImage at 0x7f9cac18fb10>"
      ]
     },
     "execution_count": 54,
     "metadata": {},
     "output_type": "execute_result"
    },
    {
     "data": {
      "image/png": "[encoded data removed]",
      "text/plain": [
       "<Figure size 504x504 with 1 Axes>"
      ]
     },
     "metadata": {
      "needs_background": "light"
     },
     "output_type": "display_data"
    }
   ],
   "source": [
    "plt.figure(figsize=(7, 7))\n",
    "plt.imshow(np.argmax(y_h, axis=1).squeeze(), vmin=0, vmax=4)"
   ]
  },
  {
   "cell_type": "markdown",
   "metadata": {},
   "source": [
    "# Onnx to tensorrt (8 bit)"
   ]
  },
  {
   "cell_type": "markdown",
   "metadata": {},
   "source": [
    "This is a little more complicated and requires doing 8 bit calibration"
   ]
  },
  {
   "cell_type": "code",
   "execution_count": 60,
   "metadata": {
    "ExecuteTime": {
     "end_time": "2020-10-07T14:45:12.752619Z",
     "start_time": "2020-10-07T14:45:12.747422Z"
    }
   },
   "outputs": [],
   "source": [
    "import pycuda.autoinit\n",
    "import pycuda.driver as cuda\n",
    "\n",
    "import tensorrt as trt"
   ]
  },
  {
   "cell_type": "code",
   "execution_count": 61,
   "metadata": {
    "ExecuteTime": {
     "end_time": "2020-10-07T14:45:13.597402Z",
     "start_time": "2020-10-07T14:45:13.591890Z"
    }
   },
   "outputs": [],
   "source": [
    "logger = trt.Logger(trt.Logger.VERBOSE)"
   ]
  },
  {
   "cell_type": "markdown",
   "metadata": {},
   "source": [
    "Create calibrator; documentation says Entropy Calibrator V2 is the recommended version for CNN based networks. It would be interesting to see how much of an effect calibration has on results."
   ]
  },
  {
   "cell_type": "code",
   "execution_count": 62,
   "metadata": {
    "ExecuteTime": {
     "end_time": "2020-10-07T14:45:14.306746Z",
     "start_time": "2020-10-07T14:45:14.302657Z"
    }
   },
   "outputs": [],
   "source": [
    "class Int8Calibrator(trt.IInt8EntropyCalibrator2):\n",
    "    def __init__(self, files_batch):\n",
    "        super().__init__()\n",
    "        self.files_batch = files_batch\n",
    "        self.count = 0\n",
    "        self.buf_h = cuda.pagelocked_empty(384*512, dtype=np.float32)\n",
    "        self.buf_d = cuda.mem_alloc(self.buf_h.nbytes)\n",
    "    \n",
    "    def read_calibration_cache(self, *args, **kwargs): \n",
    "        return None\n",
    "    \n",
    "    def write_calibration_cache(self, cache, *args, **kwargs):\n",
    "        pass\n",
    "    \n",
    "    def get_batch_size(self): \n",
    "        return 1\n",
    "    \n",
    "    def get_batch(self, *args, **kwargs): \n",
    "        if self.count < len(self.files_batch):\n",
    "            with open(self.files_batch[self.count], 'rb') as f:\n",
    "                f.readinto(self.buf_h)\n",
    "            cuda.memcpy_htod(self.buf_d, self.buf_h) # I assume this is synchronous?\n",
    "            self.count += 1\n",
    "            return [int(self.buf_d)]\n",
    "        else:\n",
    "            return []"
   ]
  },
  {
   "cell_type": "code",
   "execution_count": 63,
   "metadata": {
    "ExecuteTime": {
     "end_time": "2020-10-07T14:45:15.311874Z",
     "start_time": "2020-10-07T14:45:15.295844Z"
    }
   },
   "outputs": [],
   "source": [
    "calibrator_int8 = Int8Calibrator(list(Path('../../batches').glob('*.raw')))"
   ]
  },
  {
   "cell_type": "markdown",
   "metadata": {},
   "source": [
    "Create engine"
   ]
  },
  {
   "cell_type": "code",
   "execution_count": 64,
   "metadata": {
    "ExecuteTime": {
     "end_time": "2020-10-07T14:46:20.538924Z",
     "start_time": "2020-10-07T14:45:16.340070Z"
    }
   },
   "outputs": [],
   "source": [
    "EXPLICIT_BATCH = 1 << (int)(trt.NetworkDefinitionCreationFlag.EXPLICIT_BATCH)\n",
    "builder = trt.Builder(logger)\n",
    "network = builder.create_network(EXPLICIT_BATCH)\n",
    "parser = trt.OnnxParser(network, logger)\n",
    "parser.parse_from_file('model.onnx')\n",
    "config = builder.create_builder_config()\n",
    "config.max_workspace_size = 1 << 30\n",
    "config.set_flag(trt.BuilderFlag.INT8)\n",
    "config.int8_calibrator = calibrator_int8\n",
    "engine = builder.build_engine(network, config)"
   ]
  },
  {
   "cell_type": "markdown",
   "metadata": {},
   "source": [
    "Save engine"
   ]
  },
  {
   "cell_type": "code",
   "execution_count": 65,
   "metadata": {
    "ExecuteTime": {
     "end_time": "2020-10-07T14:46:25.935282Z",
     "start_time": "2020-10-07T14:46:25.922977Z"
    }
   },
   "outputs": [],
   "source": [
    "with open('model_8.engine', 'wb') as f:\n",
    "    f.write(bytearray(engine.serialize()))"
   ]
  },
  {
   "cell_type": "markdown",
   "metadata": {},
   "source": [
    "Load engine"
   ]
  },
  {
   "cell_type": "code",
   "execution_count": 66,
   "metadata": {
    "ExecuteTime": {
     "end_time": "2020-10-07T14:46:26.833657Z",
     "start_time": "2020-10-07T14:46:26.815237Z"
    }
   },
   "outputs": [],
   "source": [
    "runtime = trt.Runtime(logger)\n",
    "with open('model_8.engine', 'rb') as f:\n",
    "    engine = runtime.deserialize_cuda_engine(f.read())"
   ]
  },
  {
   "cell_type": "markdown",
   "metadata": {},
   "source": [
    "Allocate host/device buffers"
   ]
  },
  {
   "cell_type": "code",
   "execution_count": 67,
   "metadata": {
    "ExecuteTime": {
     "end_time": "2020-10-07T14:46:28.475710Z",
     "start_time": "2020-10-07T14:46:28.471320Z"
    }
   },
   "outputs": [],
   "source": [
    "X_h = cuda.pagelocked_empty(trt.volume(engine.get_binding_shape(0)), dtype=np.float32)\n",
    "y_h = cuda.pagelocked_empty(trt.volume(engine.get_binding_shape(1)), dtype=np.float32)\n",
    "X_d = cuda.mem_alloc(X_h.nbytes)\n",
    "y_d = cuda.mem_alloc(y_h.nbytes)"
   ]
  },
  {
   "cell_type": "code",
   "execution_count": 68,
   "metadata": {
    "ExecuteTime": {
     "end_time": "2020-10-07T14:46:29.010356Z",
     "start_time": "2020-10-07T14:46:28.993871Z"
    }
   },
   "outputs": [],
   "source": [
    "context = engine.create_execution_context()\n",
    "stream = cuda.Stream()"
   ]
  },
  {
   "cell_type": "code",
   "execution_count": 69,
   "metadata": {
    "ExecuteTime": {
     "end_time": "2020-10-07T14:46:32.989953Z",
     "start_time": "2020-10-07T14:46:32.987453Z"
    }
   },
   "outputs": [],
   "source": [
    "with open(Path('../../batches/X0.raw'), 'rb') as f:\n",
    "    f.readinto(X_h)"
   ]
  },
  {
   "cell_type": "code",
   "execution_count": 70,
   "metadata": {
    "ExecuteTime": {
     "end_time": "2020-10-07T14:46:34.294144Z",
     "start_time": "2020-10-07T14:46:34.291806Z"
    }
   },
   "outputs": [],
   "source": [
    "cuda.memcpy_htod_async(X_d, X_h, stream)    # Transfer input data to the GPU.\n",
    "stream.synchronize()   "
   ]
  },
  {
   "cell_type": "code",
   "execution_count": 71,
   "metadata": {
    "ExecuteTime": {
     "end_time": "2020-10-07T14:46:34.955128Z",
     "start_time": "2020-10-07T14:46:34.946207Z"
    }
   },
   "outputs": [],
   "source": [
    "context.execute_async(bindings=[int(X_d), int(y_d)], stream_handle=stream.handle) # Run inference.\n",
    "stream.synchronize()   "
   ]
  },
  {
   "cell_type": "code",
   "execution_count": 72,
   "metadata": {
    "ExecuteTime": {
     "end_time": "2020-10-07T14:46:38.509821Z",
     "start_time": "2020-10-07T14:46:37.204014Z"
    },
    "deletable": false,
    "editable": false,
    "run_control": {
     "frozen": true
    }
   },
   "outputs": [
    {
     "name": "stdout",
     "output_type": "stream",
     "text": [
      "1.47 ms ± 90.6 µs per loop (mean ± std. dev. of 7 runs, 100 loops each)\n"
     ]
    }
   ],
   "source": [
    "%%timeit\n",
    "context.execute_async(bindings=[int(X_d), int(y_d)], stream_handle=stream.handle) # Run inference.\n",
    "stream.synchronize()"
   ]
  },
  {
   "cell_type": "code",
   "execution_count": 73,
   "metadata": {
    "ExecuteTime": {
     "end_time": "2020-10-07T14:46:41.073667Z",
     "start_time": "2020-10-07T14:46:41.070673Z"
    }
   },
   "outputs": [],
   "source": [
    "cuda.memcpy_dtoh_async(y_h, y_d, stream)\n",
    "stream.synchronize()"
   ]
  },
  {
   "cell_type": "code",
   "execution_count": 74,
   "metadata": {
    "ExecuteTime": {
     "end_time": "2020-10-07T14:46:41.498082Z",
     "start_time": "2020-10-07T14:46:41.494092Z"
    }
   },
   "outputs": [],
   "source": [
    "y_h = y_h.reshape(engine.get_binding_shape(1))"
   ]
  },
  {
   "cell_type": "code",
   "execution_count": 75,
   "metadata": {
    "ExecuteTime": {
     "end_time": "2020-10-07T14:46:44.052198Z",
     "start_time": "2020-10-07T14:46:44.046205Z"
    },
    "deletable": false,
    "editable": false,
    "run_control": {
     "frozen": true
    }
   },
   "outputs": [
    {
     "data": {
      "text/plain": [
       "4.886321544647217"
      ]
     },
     "execution_count": 75,
     "metadata": {},
     "output_type": "execute_result"
    }
   ],
   "source": [
    "y_h[0][0][0][0].item()"
   ]
  },
  {
   "cell_type": "code",
   "execution_count": 76,
   "metadata": {
    "ExecuteTime": {
     "end_time": "2020-10-07T14:46:46.669540Z",
     "start_time": "2020-10-07T14:46:46.557239Z"
    },
    "deletable": false,
    "editable": false,
    "run_control": {
     "frozen": true
    }
   },
   "outputs": [
    {
     "data": {
      "text/plain": [
       "<matplotlib.image.AxesImage at 0x7f9cac055cd0>"
      ]
     },
     "execution_count": 76,
     "metadata": {},
     "output_type": "execute_result"
    },
    {
     "data": {
      "image/png": "[encoded data removed]",
      "text/plain": [
       "<Figure size 504x504 with 1 Axes>"
      ]
     },
     "metadata": {
      "needs_background": "light"
     },
     "output_type": "display_data"
    }
   ],
   "source": [
    "plt.figure(figsize=(7, 7))\n",
    "plt.imshow(np.argmax(y_h, axis=1).squeeze(), vmin=0, vmax=4)"
   ]
  },
  {
   "cell_type": "markdown",
   "metadata": {},
   "source": [
    "# Compare"
   ]
  },
  {
   "cell_type": "markdown",
   "metadata": {},
   "source": [
    "Note that `int8` failed for sure. `int16` looks reasonable though."
   ]
  }
 ],
 "metadata": {
  "kernelspec": {
   "display_name": "Python 3",
   "language": "python",
   "name": "python3"
  },
  "language_info": {
   "codemirror_mode": {
    "name": "ipython",
    "version": 3
   },
   "file_extension": ".py",
   "mimetype": "text/x-python",
   "name": "python",
   "nbconvert_exporter": "python",
   "pygments_lexer": "ipython3",
   "version": "3.7.7"
  },
  "varInspector": {
   "cols": {
    "lenName": 16,
    "lenType": 16,
    "lenVar": 40
   },
   "kernels_config": {
    "python": {
     "delete_cmd_postfix": "",
     "delete_cmd_prefix": "del ",
     "library": "var_list.py",
     "varRefreshCmd": "print(var_dic_list())"
    },
    "r": {
     "delete_cmd_postfix": ") ",
     "delete_cmd_prefix": "rm(",
     "library": "var_list.r",
     "varRefreshCmd": "cat(var_dic_list()) "
    }
   },
   "oldHeight": 766.85,
   "position": {
    "height": "788.85px",
    "left": "1068px",
    "right": "20px",
    "top": "118px",
    "width": "354px"
   },
   "types_to_exclude": [
    "module",
    "function",
    "builtin_function_or_method",
    "instance",
    "_Feature"
   ],
   "varInspector_section_display": "block",
   "window_display": false
  }
 },
 "nbformat": 4,
 "nbformat_minor": 2
}
