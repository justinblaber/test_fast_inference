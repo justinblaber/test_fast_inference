{
 "cells": [
  {
   "cell_type": "markdown",
   "metadata": {},
   "source": [
    "Just copy and slightly modify the `pytorch_tensorrt_conversion.ipynb` notebook here and rerun it for this trained model."
   ]
  },
  {
   "cell_type": "code",
   "execution_count": 1,
   "metadata": {
    "ExecuteTime": {
     "end_time": "2020-10-07T22:09:52.791625Z",
     "start_time": "2020-10-07T22:09:52.510994Z"
    }
   },
   "outputs": [],
   "source": [
    "import sys\n",
    "import torch\n",
    "from torch import nn\n",
    "from pathlib import Path\n",
    "import numpy as np\n",
    "import matplotlib.pyplot as plt"
   ]
  },
  {
   "cell_type": "code",
   "execution_count": 3,
   "metadata": {
    "ExecuteTime": {
     "end_time": "2020-10-07T22:09:53.406423Z",
     "start_time": "2020-10-07T22:09:53.402966Z"
    }
   },
   "outputs": [],
   "source": [
    "sys.path.append('../../')"
   ]
  },
  {
   "cell_type": "code",
   "execution_count": 4,
   "metadata": {
    "ExecuteTime": {
     "end_time": "2020-10-07T22:09:53.828741Z",
     "start_time": "2020-10-07T22:09:53.824462Z"
    }
   },
   "outputs": [],
   "source": [
    "from test_fast_inference.pytorch_tensorrt_conversion import *"
   ]
  },
  {
   "cell_type": "markdown",
   "metadata": {},
   "source": [
    "# Create model"
   ]
  },
  {
   "cell_type": "code",
   "execution_count": 5,
   "metadata": {
    "ExecuteTime": {
     "end_time": "2020-10-07T22:10:17.321860Z",
     "start_time": "2020-10-07T22:10:17.299503Z"
    }
   },
   "outputs": [],
   "source": [
    "in_channels  = 1\n",
    "out_channels = 5\n",
    "layout_encoder = [[[16,5,2,2]],\n",
    "                  [[16,3,1,1],[16,3,2,1]],\n",
    "                  [[16,3,1,1],[16,3,2,1]],\n",
    "                  [[16,3,1,1],[16,3,2,1]]]\n",
    "model = UNET_TRT(get_encoder(in_channels, layout_encoder), out_channels)"
   ]
  },
  {
   "cell_type": "code",
   "execution_count": 6,
   "metadata": {
    "ExecuteTime": {
     "end_time": "2020-10-07T22:10:19.136996Z",
     "start_time": "2020-10-07T22:10:17.999503Z"
    }
   },
   "outputs": [],
   "source": [
    "model.load_state_dict(torch.load('checkpoints/best.pth')['model'])\n",
    "model = model.to('cuda')\n",
    "model = model.eval()"
   ]
  },
  {
   "cell_type": "code",
   "execution_count": 7,
   "metadata": {
    "ExecuteTime": {
     "end_time": "2020-10-07T22:10:32.479007Z",
     "start_time": "2020-10-07T22:10:32.467587Z"
    }
   },
   "outputs": [
    {
     "data": {
      "text/plain": [
       "UNET_TRT(\n",
       "  (encoder): Sequential(\n",
       "    (0): Sequential(\n",
       "      (0): Sequential(\n",
       "        (0): Conv2d(1, 16, kernel_size=(5, 5), stride=(2, 2), padding=(2, 2), bias=False)\n",
       "        (1): InstanceNorm2d(16, eps=1e-05, momentum=0.1, affine=True, track_running_stats=False)\n",
       "        (2): ReLU(inplace=True)\n",
       "      )\n",
       "    )\n",
       "    (1): Sequential(\n",
       "      (0): Sequential(\n",
       "        (0): Conv2d(16, 16, kernel_size=(3, 3), stride=(1, 1), padding=(1, 1), bias=False)\n",
       "        (1): InstanceNorm2d(16, eps=1e-05, momentum=0.1, affine=True, track_running_stats=False)\n",
       "        (2): ReLU(inplace=True)\n",
       "      )\n",
       "      (1): Sequential(\n",
       "        (0): Conv2d(16, 16, kernel_size=(3, 3), stride=(2, 2), padding=(1, 1), bias=False)\n",
       "        (1): InstanceNorm2d(16, eps=1e-05, momentum=0.1, affine=True, track_running_stats=False)\n",
       "        (2): ReLU(inplace=True)\n",
       "      )\n",
       "    )\n",
       "    (2): Sequential(\n",
       "      (0): Sequential(\n",
       "        (0): Conv2d(16, 16, kernel_size=(3, 3), stride=(1, 1), padding=(1, 1), bias=False)\n",
       "        (1): InstanceNorm2d(16, eps=1e-05, momentum=0.1, affine=True, track_running_stats=False)\n",
       "        (2): ReLU(inplace=True)\n",
       "      )\n",
       "      (1): Sequential(\n",
       "        (0): Conv2d(16, 16, kernel_size=(3, 3), stride=(2, 2), padding=(1, 1), bias=False)\n",
       "        (1): InstanceNorm2d(16, eps=1e-05, momentum=0.1, affine=True, track_running_stats=False)\n",
       "        (2): ReLU(inplace=True)\n",
       "      )\n",
       "    )\n",
       "    (3): Sequential(\n",
       "      (0): Sequential(\n",
       "        (0): Conv2d(16, 16, kernel_size=(3, 3), stride=(1, 1), padding=(1, 1), bias=False)\n",
       "        (1): InstanceNorm2d(16, eps=1e-05, momentum=0.1, affine=True, track_running_stats=False)\n",
       "        (2): ReLU(inplace=True)\n",
       "      )\n",
       "      (1): Sequential(\n",
       "        (0): Conv2d(16, 16, kernel_size=(3, 3), stride=(2, 2), padding=(1, 1), bias=False)\n",
       "        (1): InstanceNorm2d(16, eps=1e-05, momentum=0.1, affine=True, track_running_stats=False)\n",
       "        (2): ReLU(inplace=True)\n",
       "      )\n",
       "    )\n",
       "  )\n",
       "  (decoder): Sequential(\n",
       "    (0): Sequential(\n",
       "      (0): Sequential(\n",
       "        (0): Conv2d(16, 8, kernel_size=(3, 3), stride=(1, 1), padding=(1, 1), bias=False)\n",
       "        (1): InstanceNorm2d(8, eps=1e-05, momentum=0.1, affine=True, track_running_stats=False)\n",
       "        (2): ReLU(inplace=True)\n",
       "      )\n",
       "      (1): ConvTranspose2d(8, 8, kernel_size=(2, 2), stride=(2, 2))\n",
       "    )\n",
       "    (1): Sequential(\n",
       "      (0): Sequential(\n",
       "        (0): Conv2d(24, 8, kernel_size=(3, 3), stride=(1, 1), padding=(1, 1), bias=False)\n",
       "        (1): InstanceNorm2d(8, eps=1e-05, momentum=0.1, affine=True, track_running_stats=False)\n",
       "        (2): ReLU(inplace=True)\n",
       "      )\n",
       "      (1): ConvTranspose2d(8, 8, kernel_size=(2, 2), stride=(2, 2))\n",
       "    )\n",
       "    (2): Sequential(\n",
       "      (0): Sequential(\n",
       "        (0): Conv2d(24, 8, kernel_size=(3, 3), stride=(1, 1), padding=(1, 1), bias=False)\n",
       "        (1): InstanceNorm2d(8, eps=1e-05, momentum=0.1, affine=True, track_running_stats=False)\n",
       "        (2): ReLU(inplace=True)\n",
       "      )\n",
       "      (1): ConvTranspose2d(8, 8, kernel_size=(2, 2), stride=(2, 2))\n",
       "    )\n",
       "    (3): Sequential(\n",
       "      (0): Sequential(\n",
       "        (0): Conv2d(24, 8, kernel_size=(3, 3), stride=(1, 1), padding=(1, 1), bias=False)\n",
       "        (1): InstanceNorm2d(8, eps=1e-05, momentum=0.1, affine=True, track_running_stats=False)\n",
       "        (2): ReLU(inplace=True)\n",
       "      )\n",
       "      (1): ConvTranspose2d(8, 8, kernel_size=(2, 2), stride=(2, 2))\n",
       "    )\n",
       "  )\n",
       "  (last_conv): Conv2d(8, 5, kernel_size=(3, 3), stride=(1, 1), padding=(1, 1))\n",
       ")"
      ]
     },
     "execution_count": 7,
     "metadata": {},
     "output_type": "execute_result"
    }
   ],
   "source": [
    "model"
   ]
  },
  {
   "cell_type": "code",
   "execution_count": 12,
   "metadata": {
    "ExecuteTime": {
     "end_time": "2020-10-07T15:49:38.263548Z",
     "start_time": "2020-10-07T15:49:38.260846Z"
    }
   },
   "outputs": [],
   "source": [
    "X = np.fromfile('../../batches/X0.raw', dtype=np.float32).reshape(1, 1, 384, 512)\n",
    "X = torch.from_numpy(X).cuda()"
   ]
  },
  {
   "cell_type": "code",
   "execution_count": 13,
   "metadata": {
    "ExecuteTime": {
     "end_time": "2020-10-07T15:49:38.946182Z",
     "start_time": "2020-10-07T15:49:38.943352Z"
    }
   },
   "outputs": [
    {
     "data": {
      "text/plain": [
       "<torch.autograd.grad_mode.set_grad_enabled at 0x7f34ced90110>"
      ]
     },
     "execution_count": 13,
     "metadata": {},
     "output_type": "execute_result"
    }
   ],
   "source": [
    "torch.set_grad_enabled(False) "
   ]
  },
  {
   "cell_type": "code",
   "execution_count": 14,
   "metadata": {
    "ExecuteTime": {
     "end_time": "2020-10-07T15:49:40.290329Z",
     "start_time": "2020-10-07T15:49:39.534557Z"
    }
   },
   "outputs": [],
   "source": [
    "y = model(X)\n",
    "torch.cuda.synchronize()"
   ]
  },
  {
   "cell_type": "code",
   "execution_count": 15,
   "metadata": {
    "ExecuteTime": {
     "end_time": "2020-10-07T15:49:44.388080Z",
     "start_time": "2020-10-07T15:49:41.759471Z"
    },
    "deletable": false,
    "editable": false,
    "run_control": {
     "frozen": true
    }
   },
   "outputs": [
    {
     "name": "stdout",
     "output_type": "stream",
     "text": [
      "3.18 ms ± 88.2 µs per loop (mean ± std. dev. of 7 runs, 100 loops each)\n"
     ]
    }
   ],
   "source": [
    "%%timeit\n",
    "y = model(X)\n",
    "torch.cuda.synchronize()"
   ]
  },
  {
   "cell_type": "code",
   "execution_count": 16,
   "metadata": {
    "ExecuteTime": {
     "end_time": "2020-10-07T15:49:48.251371Z",
     "start_time": "2020-10-07T15:49:48.247898Z"
    },
    "deletable": false,
    "editable": false,
    "run_control": {
     "frozen": true
    },
    "scrolled": true
   },
   "outputs": [
    {
     "data": {
      "text/plain": [
       "7.48878812789917"
      ]
     },
     "execution_count": 16,
     "metadata": {},
     "output_type": "execute_result"
    }
   ],
   "source": [
    "y[0,0,0,0].item()"
   ]
  },
  {
   "cell_type": "code",
   "execution_count": 17,
   "metadata": {
    "ExecuteTime": {
     "end_time": "2020-10-07T15:49:51.778644Z",
     "start_time": "2020-10-07T15:49:51.665628Z"
    },
    "deletable": false,
    "editable": false,
    "run_control": {
     "frozen": true
    },
    "scrolled": false
   },
   "outputs": [
    {
     "data": {
      "text/plain": [
       "<matplotlib.image.AxesImage at 0x7f3481d60b90>"
      ]
     },
     "execution_count": 17,
     "metadata": {},
     "output_type": "execute_result"
    },
    {
     "data": {
      "image/png": "[encoded data removed]",
      "text/plain": [
       "<Figure size 504x504 with 1 Axes>"
      ]
     },
     "metadata": {
      "needs_background": "light"
     },
     "output_type": "display_data"
    }
   ],
   "source": [
    "plt.figure(figsize=(7, 7))\n",
    "plt.imshow(y.argmax(dim=1)[0].cpu().numpy(), vmin=0, vmax=4)"
   ]
  },
  {
   "cell_type": "markdown",
   "metadata": {},
   "source": [
    "# Convert to onnx"
   ]
  },
  {
   "cell_type": "code",
   "execution_count": 18,
   "metadata": {
    "ExecuteTime": {
     "end_time": "2020-10-07T15:49:57.017106Z",
     "start_time": "2020-10-07T15:49:56.924376Z"
    }
   },
   "outputs": [],
   "source": [
    "import onnx\n",
    "import torch.onnx\n",
    "import onnxruntime as nxrun"
   ]
  },
  {
   "cell_type": "code",
   "execution_count": 19,
   "metadata": {
    "ExecuteTime": {
     "end_time": "2020-10-07T15:49:57.741886Z",
     "start_time": "2020-10-07T15:49:57.539230Z"
    },
    "scrolled": true
   },
   "outputs": [],
   "source": [
    "torch.onnx.export(model,\n",
    "                  X,\n",
    "                  'model.onnx',\n",
    "                  export_params=True,\n",
    "                  verbose=False)"
   ]
  },
  {
   "cell_type": "code",
   "execution_count": 20,
   "metadata": {
    "ExecuteTime": {
     "end_time": "2020-10-07T15:49:58.802278Z",
     "start_time": "2020-10-07T15:49:58.760402Z"
    }
   },
   "outputs": [],
   "source": [
    "sess = nxrun.InferenceSession('model.onnx')\n",
    "input_name = sess.get_inputs()[0].name\n",
    "label_name = sess.get_outputs()[0].name\n",
    "y = sess.run(None, {input_name: X.cpu().numpy()})[0]"
   ]
  },
  {
   "cell_type": "code",
   "execution_count": 21,
   "metadata": {
    "ExecuteTime": {
     "end_time": "2020-10-07T15:50:02.053871Z",
     "start_time": "2020-10-07T15:50:02.046491Z"
    },
    "deletable": false,
    "editable": false,
    "run_control": {
     "frozen": true
    }
   },
   "outputs": [
    {
     "data": {
      "text/plain": [
       "7.488779544830322"
      ]
     },
     "execution_count": 21,
     "metadata": {},
     "output_type": "execute_result"
    }
   ],
   "source": [
    "y[0,0,0,0].item()"
   ]
  },
  {
   "cell_type": "code",
   "execution_count": 22,
   "metadata": {
    "ExecuteTime": {
     "end_time": "2020-10-07T15:50:02.730984Z",
     "start_time": "2020-10-07T15:50:02.620613Z"
    },
    "deletable": false,
    "editable": false,
    "run_control": {
     "frozen": true
    }
   },
   "outputs": [
    {
     "data": {
      "text/plain": [
       "<matplotlib.image.AxesImage at 0x7f342a04f450>"
      ]
     },
     "execution_count": 22,
     "metadata": {},
     "output_type": "execute_result"
    },
    {
     "data": {
      "image/png": "[encoded data removed]",
      "text/plain": [
       "<Figure size 504x504 with 1 Axes>"
      ]
     },
     "metadata": {
      "needs_background": "light"
     },
     "output_type": "display_data"
    }
   ],
   "source": [
    "plt.figure(figsize=(7, 7))\n",
    "plt.imshow(y.argmax(axis=1)[0], vmin=0, vmax=4)"
   ]
  },
  {
   "cell_type": "markdown",
   "metadata": {},
   "source": [
    "# Onnx to tensorrt (32 bit)"
   ]
  },
  {
   "cell_type": "code",
   "execution_count": 23,
   "metadata": {
    "ExecuteTime": {
     "end_time": "2020-10-07T15:50:07.951158Z",
     "start_time": "2020-10-07T15:50:07.864639Z"
    }
   },
   "outputs": [],
   "source": [
    "import pycuda.autoinit\n",
    "import pycuda.driver as cuda\n",
    "\n",
    "import tensorrt as trt"
   ]
  },
  {
   "cell_type": "code",
   "execution_count": 24,
   "metadata": {
    "ExecuteTime": {
     "end_time": "2020-10-07T15:50:08.909783Z",
     "start_time": "2020-10-07T15:50:08.905986Z"
    }
   },
   "outputs": [],
   "source": [
    "logger = trt.Logger(trt.Logger.VERBOSE)"
   ]
  },
  {
   "cell_type": "markdown",
   "metadata": {},
   "source": [
    "Create engine"
   ]
  },
  {
   "cell_type": "code",
   "execution_count": 25,
   "metadata": {
    "ExecuteTime": {
     "end_time": "2020-10-07T15:50:13.567841Z",
     "start_time": "2020-10-07T15:50:10.443461Z"
    }
   },
   "outputs": [],
   "source": [
    "EXPLICIT_BATCH = 1 << (int)(trt.NetworkDefinitionCreationFlag.EXPLICIT_BATCH)\n",
    "builder = trt.Builder(logger)\n",
    "network = builder.create_network(EXPLICIT_BATCH)\n",
    "parser = trt.OnnxParser(network, logger)\n",
    "parser.parse_from_file('model.onnx')\n",
    "config = builder.create_builder_config()\n",
    "config.max_workspace_size = 1 << 16\n",
    "engine = builder.build_engine(network, config)"
   ]
  },
  {
   "cell_type": "markdown",
   "metadata": {},
   "source": [
    "Save engine"
   ]
  },
  {
   "cell_type": "code",
   "execution_count": 26,
   "metadata": {
    "ExecuteTime": {
     "end_time": "2020-10-07T15:50:15.550427Z",
     "start_time": "2020-10-07T15:50:15.540925Z"
    }
   },
   "outputs": [],
   "source": [
    "with open('model_32.engine', 'wb') as f:\n",
    "    f.write(bytearray(engine.serialize()))"
   ]
  },
  {
   "cell_type": "markdown",
   "metadata": {},
   "source": [
    "Load engine"
   ]
  },
  {
   "cell_type": "code",
   "execution_count": 27,
   "metadata": {
    "ExecuteTime": {
     "end_time": "2020-10-07T15:50:16.824880Z",
     "start_time": "2020-10-07T15:50:16.802475Z"
    }
   },
   "outputs": [],
   "source": [
    "runtime = trt.Runtime(logger)\n",
    "with open('model_32.engine', 'rb') as f:\n",
    "    engine = runtime.deserialize_cuda_engine(f.read())"
   ]
  },
  {
   "cell_type": "markdown",
   "metadata": {},
   "source": [
    "Allocate host/device buffers"
   ]
  },
  {
   "cell_type": "code",
   "execution_count": 28,
   "metadata": {
    "ExecuteTime": {
     "end_time": "2020-10-07T15:50:19.800158Z",
     "start_time": "2020-10-07T15:50:19.795259Z"
    }
   },
   "outputs": [],
   "source": [
    "X_h = cuda.pagelocked_empty(trt.volume(engine.get_binding_shape(0)), dtype=np.float32)\n",
    "y_h = cuda.pagelocked_empty(trt.volume(engine.get_binding_shape(1)), dtype=np.float32)\n",
    "X_d = cuda.mem_alloc(X_h.nbytes)\n",
    "y_d = cuda.mem_alloc(y_h.nbytes)"
   ]
  },
  {
   "cell_type": "code",
   "execution_count": 29,
   "metadata": {
    "ExecuteTime": {
     "end_time": "2020-10-07T15:50:20.428993Z",
     "start_time": "2020-10-07T15:50:20.422900Z"
    }
   },
   "outputs": [],
   "source": [
    "with open('../../batches/X0.raw', 'rb') as f:\n",
    "    f.readinto(X_h)"
   ]
  },
  {
   "cell_type": "code",
   "execution_count": 30,
   "metadata": {
    "ExecuteTime": {
     "end_time": "2020-10-07T15:50:21.035727Z",
     "start_time": "2020-10-07T15:50:21.028854Z"
    }
   },
   "outputs": [],
   "source": [
    "context = engine.create_execution_context()\n",
    "stream = cuda.Stream()"
   ]
  },
  {
   "cell_type": "code",
   "execution_count": 31,
   "metadata": {
    "ExecuteTime": {
     "end_time": "2020-10-07T15:50:22.037909Z",
     "start_time": "2020-10-07T15:50:22.032288Z"
    }
   },
   "outputs": [],
   "source": [
    "cuda.memcpy_htod_async(X_d, X_h, stream)    # Transfer input data to the GPU.\n",
    "stream.synchronize() "
   ]
  },
  {
   "cell_type": "code",
   "execution_count": 32,
   "metadata": {
    "ExecuteTime": {
     "end_time": "2020-10-07T15:50:22.600234Z",
     "start_time": "2020-10-07T15:50:22.556670Z"
    }
   },
   "outputs": [],
   "source": [
    "context.execute_async(bindings=[int(X_d), int(y_d)], stream_handle=stream.handle) # Run inference.\n",
    "stream.synchronize()   "
   ]
  },
  {
   "cell_type": "code",
   "execution_count": 33,
   "metadata": {
    "ExecuteTime": {
     "end_time": "2020-10-07T15:50:26.118212Z",
     "start_time": "2020-10-07T15:50:24.869605Z"
    },
    "deletable": false,
    "editable": false,
    "run_control": {
     "frozen": true
    }
   },
   "outputs": [
    {
     "name": "stdout",
     "output_type": "stream",
     "text": [
      "1.41 ms ± 23.6 µs per loop (mean ± std. dev. of 7 runs, 100 loops each)\n"
     ]
    }
   ],
   "source": [
    "%%timeit\n",
    "context.execute_async(bindings=[int(X_d), int(y_d)], stream_handle=stream.handle) # Run inference.\n",
    "stream.synchronize()"
   ]
  },
  {
   "cell_type": "code",
   "execution_count": 34,
   "metadata": {
    "ExecuteTime": {
     "end_time": "2020-10-07T15:50:28.358989Z",
     "start_time": "2020-10-07T15:50:28.353485Z"
    }
   },
   "outputs": [],
   "source": [
    "cuda.memcpy_dtoh_async(y_h, y_d, stream)\n",
    "stream.synchronize()"
   ]
  },
  {
   "cell_type": "code",
   "execution_count": 35,
   "metadata": {
    "ExecuteTime": {
     "end_time": "2020-10-07T15:50:28.801612Z",
     "start_time": "2020-10-07T15:50:28.797506Z"
    }
   },
   "outputs": [],
   "source": [
    "y_h = y_h.reshape(engine.get_binding_shape(1))"
   ]
  },
  {
   "cell_type": "code",
   "execution_count": 36,
   "metadata": {
    "ExecuteTime": {
     "end_time": "2020-10-07T15:50:30.723094Z",
     "start_time": "2020-10-07T15:50:30.719456Z"
    },
    "deletable": false,
    "editable": false,
    "run_control": {
     "frozen": true
    }
   },
   "outputs": [
    {
     "data": {
      "text/plain": [
       "7.4887871742248535"
      ]
     },
     "execution_count": 36,
     "metadata": {},
     "output_type": "execute_result"
    }
   ],
   "source": [
    "y_h[0][0][0][0].item()"
   ]
  },
  {
   "cell_type": "code",
   "execution_count": 37,
   "metadata": {
    "ExecuteTime": {
     "end_time": "2020-10-07T15:50:34.229404Z",
     "start_time": "2020-10-07T15:50:34.119695Z"
    },
    "deletable": false,
    "editable": false,
    "run_control": {
     "frozen": true
    }
   },
   "outputs": [
    {
     "data": {
      "text/plain": [
       "<matplotlib.image.AxesImage at 0x7f341e03de50>"
      ]
     },
     "execution_count": 37,
     "metadata": {},
     "output_type": "execute_result"
    },
    {
     "data": {
      "image/png": "[encoded data removed]",
      "text/plain": [
       "<Figure size 504x504 with 1 Axes>"
      ]
     },
     "metadata": {
      "needs_background": "light"
     },
     "output_type": "display_data"
    }
   ],
   "source": [
    "plt.figure(figsize=(7, 7))\n",
    "plt.imshow(np.argmax(y_h, axis=1).squeeze(), vmin=0, vmax=4)"
   ]
  },
  {
   "cell_type": "markdown",
   "metadata": {},
   "source": [
    "# Onnx to tensorrt (16 bit)"
   ]
  },
  {
   "cell_type": "code",
   "execution_count": 38,
   "metadata": {
    "ExecuteTime": {
     "end_time": "2020-10-07T15:50:41.168995Z",
     "start_time": "2020-10-07T15:50:41.164655Z"
    }
   },
   "outputs": [],
   "source": [
    "import pycuda.autoinit\n",
    "import pycuda.driver as cuda\n",
    "\n",
    "import tensorrt as trt"
   ]
  },
  {
   "cell_type": "code",
   "execution_count": 39,
   "metadata": {
    "ExecuteTime": {
     "end_time": "2020-10-07T15:50:41.642168Z",
     "start_time": "2020-10-07T15:50:41.639422Z"
    }
   },
   "outputs": [],
   "source": [
    "logger = trt.Logger(trt.Logger.VERBOSE)"
   ]
  },
  {
   "cell_type": "markdown",
   "metadata": {},
   "source": [
    "Create engine"
   ]
  },
  {
   "cell_type": "code",
   "execution_count": 40,
   "metadata": {
    "ExecuteTime": {
     "end_time": "2020-10-07T15:50:50.722431Z",
     "start_time": "2020-10-07T15:50:42.992428Z"
    }
   },
   "outputs": [],
   "source": [
    "EXPLICIT_BATCH = 1 << (int)(trt.NetworkDefinitionCreationFlag.EXPLICIT_BATCH)\n",
    "builder = trt.Builder(logger)\n",
    "network = builder.create_network(EXPLICIT_BATCH)\n",
    "parser = trt.OnnxParser(network, logger)\n",
    "parser.parse_from_file('model.onnx')\n",
    "config = builder.create_builder_config()\n",
    "config.max_workspace_size = 1 << 16\n",
    "config.set_flag(trt.BuilderFlag.FP16)\n",
    "# config.set_flag(trt.BuilderFlag.STRICT_TYPES) # This will force it\n",
    "engine = builder.build_engine(network, config)"
   ]
  },
  {
   "cell_type": "markdown",
   "metadata": {},
   "source": [
    "Save engine"
   ]
  },
  {
   "cell_type": "code",
   "execution_count": 41,
   "metadata": {
    "ExecuteTime": {
     "end_time": "2020-10-07T15:50:56.658490Z",
     "start_time": "2020-10-07T15:50:56.649527Z"
    }
   },
   "outputs": [],
   "source": [
    "with open('model_16.engine', 'wb') as f:\n",
    "    f.write(bytearray(engine.serialize()))"
   ]
  },
  {
   "cell_type": "markdown",
   "metadata": {},
   "source": [
    "Load engine"
   ]
  },
  {
   "cell_type": "code",
   "execution_count": 42,
   "metadata": {
    "ExecuteTime": {
     "end_time": "2020-10-07T15:50:58.012307Z",
     "start_time": "2020-10-07T15:50:58.004992Z"
    }
   },
   "outputs": [],
   "source": [
    "runtime = trt.Runtime(logger)\n",
    "with open('model_16.engine', 'rb') as f:\n",
    "    engine = runtime.deserialize_cuda_engine(f.read())"
   ]
  },
  {
   "cell_type": "markdown",
   "metadata": {},
   "source": [
    "Allocate host/device buffers"
   ]
  },
  {
   "cell_type": "code",
   "execution_count": 43,
   "metadata": {
    "ExecuteTime": {
     "end_time": "2020-10-07T15:50:59.339613Z",
     "start_time": "2020-10-07T15:50:59.335188Z"
    }
   },
   "outputs": [],
   "source": [
    "X_h = cuda.pagelocked_empty(trt.volume(engine.get_binding_shape(0)), dtype=np.float32)\n",
    "y_h = cuda.pagelocked_empty(trt.volume(engine.get_binding_shape(1)), dtype=np.float32)\n",
    "X_d = cuda.mem_alloc(X_h.nbytes)\n",
    "y_d = cuda.mem_alloc(y_h.nbytes)"
   ]
  },
  {
   "cell_type": "code",
   "execution_count": 44,
   "metadata": {
    "ExecuteTime": {
     "end_time": "2020-10-07T15:51:00.509345Z",
     "start_time": "2020-10-07T15:51:00.507039Z"
    }
   },
   "outputs": [],
   "source": [
    "with open('../../batches/X0.raw', 'rb') as f:\n",
    "    f.readinto(X_h)"
   ]
  },
  {
   "cell_type": "code",
   "execution_count": 45,
   "metadata": {
    "ExecuteTime": {
     "end_time": "2020-10-07T15:51:01.659691Z",
     "start_time": "2020-10-07T15:51:01.646717Z"
    }
   },
   "outputs": [],
   "source": [
    "context = engine.create_execution_context()\n",
    "stream = cuda.Stream()"
   ]
  },
  {
   "cell_type": "code",
   "execution_count": 46,
   "metadata": {
    "ExecuteTime": {
     "end_time": "2020-10-07T15:51:02.351464Z",
     "start_time": "2020-10-07T15:51:02.343411Z"
    }
   },
   "outputs": [],
   "source": [
    "cuda.memcpy_htod_async(X_d, X_h, stream)    # Transfer input data to the GPU.\n",
    "stream.synchronize() "
   ]
  },
  {
   "cell_type": "code",
   "execution_count": 47,
   "metadata": {
    "ExecuteTime": {
     "end_time": "2020-10-07T15:51:03.603303Z",
     "start_time": "2020-10-07T15:51:03.589154Z"
    }
   },
   "outputs": [],
   "source": [
    "context.execute_async(bindings=[int(X_d), int(y_d)], stream_handle=stream.handle) # Run inference.\n",
    "stream.synchronize()   "
   ]
  },
  {
   "cell_type": "code",
   "execution_count": 48,
   "metadata": {
    "ExecuteTime": {
     "end_time": "2020-10-07T15:51:15.656081Z",
     "start_time": "2020-10-07T15:51:06.166969Z"
    },
    "deletable": false,
    "editable": false,
    "run_control": {
     "frozen": true
    }
   },
   "outputs": [
    {
     "name": "stdout",
     "output_type": "stream",
     "text": [
      "1.16 ms ± 26.7 µs per loop (mean ± std. dev. of 7 runs, 1000 loops each)\n"
     ]
    }
   ],
   "source": [
    "%%timeit\n",
    "context.execute_async(bindings=[int(X_d), int(y_d)], stream_handle=stream.handle) # Run inference.\n",
    "stream.synchronize()"
   ]
  },
  {
   "cell_type": "code",
   "execution_count": 49,
   "metadata": {
    "ExecuteTime": {
     "end_time": "2020-10-07T15:51:17.929939Z",
     "start_time": "2020-10-07T15:51:17.924614Z"
    }
   },
   "outputs": [],
   "source": [
    "cuda.memcpy_dtoh_async(y_h, y_d, stream)\n",
    "stream.synchronize()"
   ]
  },
  {
   "cell_type": "code",
   "execution_count": 50,
   "metadata": {
    "ExecuteTime": {
     "end_time": "2020-10-07T15:51:18.499967Z",
     "start_time": "2020-10-07T15:51:18.494011Z"
    }
   },
   "outputs": [],
   "source": [
    "y_h = y_h.reshape(engine.get_binding_shape(1))"
   ]
  },
  {
   "cell_type": "code",
   "execution_count": 51,
   "metadata": {
    "ExecuteTime": {
     "end_time": "2020-10-07T15:51:24.257557Z",
     "start_time": "2020-10-07T15:51:24.254172Z"
    },
    "deletable": false,
    "editable": false,
    "run_control": {
     "frozen": true
    }
   },
   "outputs": [
    {
     "data": {
      "text/plain": [
       "7.4921875"
      ]
     },
     "execution_count": 51,
     "metadata": {},
     "output_type": "execute_result"
    }
   ],
   "source": [
    "y_h[0][0][0][0].item()"
   ]
  },
  {
   "cell_type": "code",
   "execution_count": 52,
   "metadata": {
    "ExecuteTime": {
     "end_time": "2020-10-07T15:51:24.850875Z",
     "start_time": "2020-10-07T15:51:24.740049Z"
    },
    "deletable": false,
    "editable": false,
    "run_control": {
     "frozen": true
    }
   },
   "outputs": [
    {
     "data": {
      "text/plain": [
       "<matplotlib.image.AxesImage at 0x7f34005a6b90>"
      ]
     },
     "execution_count": 52,
     "metadata": {},
     "output_type": "execute_result"
    },
    {
     "data": {
      "image/png": "[encoded data removed]",
      "text/plain": [
       "<Figure size 504x504 with 1 Axes>"
      ]
     },
     "metadata": {
      "needs_background": "light"
     },
     "output_type": "display_data"
    }
   ],
   "source": [
    "plt.figure(figsize=(7, 7))\n",
    "plt.imshow(np.argmax(y_h, axis=1).squeeze(), vmin=0, vmax=4)"
   ]
  },
  {
   "cell_type": "markdown",
   "metadata": {},
   "source": [
    "# Onnx to tensorrt (8 bit)"
   ]
  },
  {
   "cell_type": "markdown",
   "metadata": {},
   "source": [
    "This is a little more complicated and requires doing 8 bit calibration"
   ]
  },
  {
   "cell_type": "code",
   "execution_count": 53,
   "metadata": {
    "ExecuteTime": {
     "end_time": "2020-10-07T15:51:29.632138Z",
     "start_time": "2020-10-07T15:51:29.627837Z"
    }
   },
   "outputs": [],
   "source": [
    "import pycuda.autoinit\n",
    "import pycuda.driver as cuda\n",
    "\n",
    "import tensorrt as trt"
   ]
  },
  {
   "cell_type": "code",
   "execution_count": 54,
   "metadata": {
    "ExecuteTime": {
     "end_time": "2020-10-07T15:51:30.537873Z",
     "start_time": "2020-10-07T15:51:30.533685Z"
    }
   },
   "outputs": [],
   "source": [
    "logger = trt.Logger(trt.Logger.VERBOSE)"
   ]
  },
  {
   "cell_type": "markdown",
   "metadata": {},
   "source": [
    "Create calibrator; documentation says Entropy Calibrator V2 is the recommended version for CNN based networks. It would be interesting to see how much of an effect calibration has on results."
   ]
  },
  {
   "cell_type": "code",
   "execution_count": 55,
   "metadata": {
    "ExecuteTime": {
     "end_time": "2020-10-07T15:51:31.607845Z",
     "start_time": "2020-10-07T15:51:31.568928Z"
    }
   },
   "outputs": [],
   "source": [
    "class Int8Calibrator(trt.IInt8EntropyCalibrator2):\n",
    "    def __init__(self, files_batch):\n",
    "        super().__init__()\n",
    "        self.files_batch = files_batch\n",
    "        self.count = 0\n",
    "        self.buf_h = cuda.pagelocked_empty(384*512, dtype=np.float32)\n",
    "        self.buf_d = cuda.mem_alloc(self.buf_h.nbytes)\n",
    "    \n",
    "    def read_calibration_cache(self, *args, **kwargs): \n",
    "        return None\n",
    "    \n",
    "    def write_calibration_cache(self, cache, *args, **kwargs):\n",
    "        pass\n",
    "    \n",
    "    def get_batch_size(self): \n",
    "        return 1\n",
    "    \n",
    "    def get_batch(self, *args, **kwargs): \n",
    "        if self.count < len(self.files_batch):\n",
    "            with open(self.files_batch[self.count], 'rb') as f:\n",
    "                f.readinto(self.buf_h)\n",
    "            cuda.memcpy_htod(self.buf_d, self.buf_h) # I assume this is synchronous?\n",
    "            self.count += 1\n",
    "            return [int(self.buf_d)]\n",
    "        else:\n",
    "            return []"
   ]
  },
  {
   "cell_type": "code",
   "execution_count": 56,
   "metadata": {
    "ExecuteTime": {
     "end_time": "2020-10-07T15:51:32.686686Z",
     "start_time": "2020-10-07T15:51:32.683380Z"
    }
   },
   "outputs": [],
   "source": [
    "calibrator_int8 = Int8Calibrator(list(Path('../../batches').glob('*.raw')))"
   ]
  },
  {
   "cell_type": "markdown",
   "metadata": {},
   "source": [
    "Create engine"
   ]
  },
  {
   "cell_type": "code",
   "execution_count": 57,
   "metadata": {
    "ExecuteTime": {
     "end_time": "2020-10-07T15:52:09.285947Z",
     "start_time": "2020-10-07T15:51:33.794169Z"
    }
   },
   "outputs": [],
   "source": [
    "EXPLICIT_BATCH = 1 << (int)(trt.NetworkDefinitionCreationFlag.EXPLICIT_BATCH)\n",
    "builder = trt.Builder(logger)\n",
    "network = builder.create_network(EXPLICIT_BATCH)\n",
    "parser = trt.OnnxParser(network, logger)\n",
    "parser.parse_from_file('model.onnx')\n",
    "config = builder.create_builder_config()\n",
    "config.max_workspace_size = 1 << 30\n",
    "config.set_flag(trt.BuilderFlag.INT8)\n",
    "config.int8_calibrator = calibrator_int8\n",
    "engine = builder.build_engine(network, config)"
   ]
  },
  {
   "cell_type": "markdown",
   "metadata": {},
   "source": [
    "Save engine"
   ]
  },
  {
   "cell_type": "code",
   "execution_count": 58,
   "metadata": {
    "ExecuteTime": {
     "end_time": "2020-10-07T15:52:36.348630Z",
     "start_time": "2020-10-07T15:52:36.324619Z"
    }
   },
   "outputs": [],
   "source": [
    "with open('model_8.engine', 'wb') as f:\n",
    "    f.write(bytearray(engine.serialize()))"
   ]
  },
  {
   "cell_type": "markdown",
   "metadata": {},
   "source": [
    "Load engine"
   ]
  },
  {
   "cell_type": "code",
   "execution_count": 59,
   "metadata": {
    "ExecuteTime": {
     "end_time": "2020-10-07T15:52:37.522384Z",
     "start_time": "2020-10-07T15:52:37.505503Z"
    }
   },
   "outputs": [],
   "source": [
    "runtime = trt.Runtime(logger)\n",
    "with open('model_8.engine', 'rb') as f:\n",
    "    engine = runtime.deserialize_cuda_engine(f.read())"
   ]
  },
  {
   "cell_type": "markdown",
   "metadata": {},
   "source": [
    "Allocate host/device buffers"
   ]
  },
  {
   "cell_type": "code",
   "execution_count": 60,
   "metadata": {
    "ExecuteTime": {
     "end_time": "2020-10-07T15:52:38.762105Z",
     "start_time": "2020-10-07T15:52:38.753394Z"
    }
   },
   "outputs": [],
   "source": [
    "X_h = cuda.pagelocked_empty(trt.volume(engine.get_binding_shape(0)), dtype=np.float32)\n",
    "y_h = cuda.pagelocked_empty(trt.volume(engine.get_binding_shape(1)), dtype=np.float32)\n",
    "X_d = cuda.mem_alloc(X_h.nbytes)\n",
    "y_d = cuda.mem_alloc(y_h.nbytes)"
   ]
  },
  {
   "cell_type": "code",
   "execution_count": 61,
   "metadata": {
    "ExecuteTime": {
     "end_time": "2020-10-07T15:52:39.546770Z",
     "start_time": "2020-10-07T15:52:39.538632Z"
    }
   },
   "outputs": [],
   "source": [
    "context = engine.create_execution_context()\n",
    "stream = cuda.Stream()"
   ]
  },
  {
   "cell_type": "code",
   "execution_count": 62,
   "metadata": {
    "ExecuteTime": {
     "end_time": "2020-10-07T15:52:40.617909Z",
     "start_time": "2020-10-07T15:52:40.615720Z"
    }
   },
   "outputs": [],
   "source": [
    "with open(Path('../../batches/X0.raw'), 'rb') as f:\n",
    "    f.readinto(X_h)"
   ]
  },
  {
   "cell_type": "code",
   "execution_count": 63,
   "metadata": {
    "ExecuteTime": {
     "end_time": "2020-10-07T15:52:41.089332Z",
     "start_time": "2020-10-07T15:52:41.085061Z"
    }
   },
   "outputs": [],
   "source": [
    "cuda.memcpy_htod_async(X_d, X_h, stream)    # Transfer input data to the GPU.\n",
    "stream.synchronize()   "
   ]
  },
  {
   "cell_type": "code",
   "execution_count": 64,
   "metadata": {
    "ExecuteTime": {
     "end_time": "2020-10-07T15:52:41.729311Z",
     "start_time": "2020-10-07T15:52:41.722439Z"
    }
   },
   "outputs": [],
   "source": [
    "context.execute_async(bindings=[int(X_d), int(y_d)], stream_handle=stream.handle) # Run inference.\n",
    "stream.synchronize()   "
   ]
  },
  {
   "cell_type": "code",
   "execution_count": 65,
   "metadata": {
    "ExecuteTime": {
     "end_time": "2020-10-07T15:52:50.898444Z",
     "start_time": "2020-10-07T15:52:43.627928Z"
    },
    "deletable": false,
    "editable": false,
    "run_control": {
     "frozen": true
    }
   },
   "outputs": [
    {
     "name": "stdout",
     "output_type": "stream",
     "text": [
      "887 µs ± 60.2 µs per loop (mean ± std. dev. of 7 runs, 1000 loops each)\n"
     ]
    }
   ],
   "source": [
    "%%timeit\n",
    "context.execute_async(bindings=[int(X_d), int(y_d)], stream_handle=stream.handle) # Run inference.\n",
    "stream.synchronize()"
   ]
  },
  {
   "cell_type": "code",
   "execution_count": 66,
   "metadata": {
    "ExecuteTime": {
     "end_time": "2020-10-07T15:52:55.432735Z",
     "start_time": "2020-10-07T15:52:55.427549Z"
    }
   },
   "outputs": [],
   "source": [
    "cuda.memcpy_dtoh_async(y_h, y_d, stream)\n",
    "stream.synchronize()"
   ]
  },
  {
   "cell_type": "code",
   "execution_count": 67,
   "metadata": {
    "ExecuteTime": {
     "end_time": "2020-10-07T15:52:55.990513Z",
     "start_time": "2020-10-07T15:52:55.985079Z"
    }
   },
   "outputs": [],
   "source": [
    "y_h = y_h.reshape(engine.get_binding_shape(1))"
   ]
  },
  {
   "cell_type": "code",
   "execution_count": 68,
   "metadata": {
    "ExecuteTime": {
     "end_time": "2020-10-07T15:52:59.771662Z",
     "start_time": "2020-10-07T15:52:59.765398Z"
    },
    "deletable": false,
    "editable": false,
    "run_control": {
     "frozen": true
    }
   },
   "outputs": [
    {
     "data": {
      "text/plain": [
       "7.636841773986816"
      ]
     },
     "execution_count": 68,
     "metadata": {},
     "output_type": "execute_result"
    }
   ],
   "source": [
    "y_h[0][0][0][0].item()"
   ]
  },
  {
   "cell_type": "code",
   "execution_count": 69,
   "metadata": {
    "ExecuteTime": {
     "end_time": "2020-10-07T15:53:00.530160Z",
     "start_time": "2020-10-07T15:53:00.421337Z"
    },
    "deletable": false,
    "editable": false,
    "run_control": {
     "frozen": true
    }
   },
   "outputs": [
    {
     "data": {
      "text/plain": [
       "<matplotlib.image.AxesImage at 0x7f34004d5f90>"
      ]
     },
     "execution_count": 69,
     "metadata": {},
     "output_type": "execute_result"
    },
    {
     "data": {
      "image/png": "[encoded data removed]",
      "text/plain": [
       "<Figure size 504x504 with 1 Axes>"
      ]
     },
     "metadata": {
      "needs_background": "light"
     },
     "output_type": "display_data"
    }
   ],
   "source": [
    "plt.figure(figsize=(7, 7))\n",
    "plt.imshow(np.argmax(y_h, axis=1).squeeze(), vmin=0, vmax=4)"
   ]
  },
  {
   "cell_type": "markdown",
   "metadata": {},
   "source": [
    "# Compare"
   ]
  },
  {
   "cell_type": "markdown",
   "metadata": {},
   "source": [
    "`int8` actually appears to work here... interesting"
   ]
  }
 ],
 "metadata": {
  "kernelspec": {
   "display_name": "Python 3",
   "language": "python",
   "name": "python3"
  },
  "language_info": {
   "codemirror_mode": {
    "name": "ipython",
    "version": 3
   },
   "file_extension": ".py",
   "mimetype": "text/x-python",
   "name": "python",
   "nbconvert_exporter": "python",
   "pygments_lexer": "ipython3",
   "version": "3.7.7"
  },
  "varInspector": {
   "cols": {
    "lenName": 16,
    "lenType": 16,
    "lenVar": 40
   },
   "kernels_config": {
    "python": {
     "delete_cmd_postfix": "",
     "delete_cmd_prefix": "del ",
     "library": "var_list.py",
     "varRefreshCmd": "print(var_dic_list())"
    },
    "r": {
     "delete_cmd_postfix": ") ",
     "delete_cmd_prefix": "rm(",
     "library": "var_list.r",
     "varRefreshCmd": "cat(var_dic_list()) "
    }
   },
   "oldHeight": 766.85,
   "position": {
    "height": "788.85px",
    "left": "1068px",
    "right": "20px",
    "top": "118px",
    "width": "354px"
   },
   "types_to_exclude": [
    "module",
    "function",
    "builtin_function_or_method",
    "instance",
    "_Feature"
   ],
   "varInspector_section_display": "block",
   "window_display": false
  }
 },
 "nbformat": 4,
 "nbformat_minor": 2
}
