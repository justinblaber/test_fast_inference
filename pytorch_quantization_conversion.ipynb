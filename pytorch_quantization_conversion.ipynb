{
 "cells": [
  {
   "cell_type": "code",
   "execution_count": 1,
   "metadata": {
    "ExecuteTime": {
     "end_time": "2020-10-09T17:10:54.840178Z",
     "start_time": "2020-10-09T17:10:54.838376Z"
    }
   },
   "outputs": [],
   "source": [
    "# default_exp pytorch_quantization_conversion"
   ]
  },
  {
   "cell_type": "markdown",
   "metadata": {},
   "source": [
    "This notebook involves converting a pytorch model into pytorch's quantization model. You need to explicitly fuse some operations (like tensorrt does). Quantization aware training is also an interesting choice I'd like to investigate. Lastly, as of 1.7.0, INT8 quantization is only supported on the CPU. \n",
    "\n",
    "Really, I'd like to see if it's faster to run inference on the CPU with AVX2 instructions when you take into account xferring data to GPU, and xferring it back."
   ]
  },
  {
   "cell_type": "code",
   "execution_count": 2,
   "metadata": {
    "ExecuteTime": {
     "end_time": "2020-10-09T17:10:55.134346Z",
     "start_time": "2020-10-09T17:10:54.841385Z"
    }
   },
   "outputs": [],
   "source": [
    "#export\n",
    "import torch\n",
    "from torch import nn\n",
    "from torch.quantization import QuantStub, DeQuantStub"
   ]
  },
  {
   "cell_type": "code",
   "execution_count": 3,
   "metadata": {
    "ExecuteTime": {
     "end_time": "2020-10-09T17:10:55.270860Z",
     "start_time": "2020-10-09T17:10:55.135541Z"
    }
   },
   "outputs": [],
   "source": [
    "from pathlib import Path\n",
    "\n",
    "import numpy as np\n",
    "import matplotlib.pyplot as plt"
   ]
  },
  {
   "cell_type": "code",
   "execution_count": 4,
   "metadata": {
    "ExecuteTime": {
     "end_time": "2020-10-09T17:10:55.273594Z",
     "start_time": "2020-10-09T17:10:55.271863Z"
    }
   },
   "outputs": [],
   "source": [
    "# from IPython.core.display import display, HTML\n",
    "# display(HTML(\"<style>.container { width:100% !important; }</style>\"))"
   ]
  },
  {
   "cell_type": "markdown",
   "metadata": {},
   "source": [
    "# Create model"
   ]
  },
  {
   "cell_type": "markdown",
   "metadata": {},
   "source": [
    "Note that instance norm is not supported. I'd like to avoid batch norm since it doesn't work well for small batch sizes; I'm gonna try just training without any normalization layers and see how that goes. Also transposed convolutions are not supported yet, so replace with an Upsampling operation."
   ]
  },
  {
   "cell_type": "code",
   "execution_count": 5,
   "metadata": {
    "ExecuteTime": {
     "end_time": "2020-10-09T17:10:55.282749Z",
     "start_time": "2020-10-09T17:10:55.274544Z"
    }
   },
   "outputs": [],
   "source": [
    "#export\n",
    "def get_out_channels(m):\n",
    "    # Gets out_channels of last conv layer\n",
    "    out_channels = None\n",
    "    for m_sub in m.modules():\n",
    "        if isinstance(m_sub, nn.modules.conv._ConvNd):\n",
    "            out_channels = m_sub.out_channels\n",
    "    return out_channels"
   ]
  },
  {
   "cell_type": "code",
   "execution_count": 6,
   "metadata": {
    "ExecuteTime": {
     "end_time": "2020-10-09T17:10:55.289255Z",
     "start_time": "2020-10-09T17:10:55.283708Z"
    }
   },
   "outputs": [],
   "source": [
    "#export\n",
    "def conv_layer(in_channels, out_channels, kernel_size, stride, padding):\n",
    "    return nn.intrinsic.ConvReLU2d(\n",
    "        nn.Conv2d(in_channels, \n",
    "                  out_channels, \n",
    "                  kernel_size=kernel_size, \n",
    "                  stride=stride, \n",
    "                  padding=padding),\n",
    "        nn.ReLU(inplace=True)\n",
    "    )"
   ]
  },
  {
   "cell_type": "code",
   "execution_count": 7,
   "metadata": {
    "ExecuteTime": {
     "end_time": "2020-10-09T17:10:55.298200Z",
     "start_time": "2020-10-09T17:10:55.291082Z"
    }
   },
   "outputs": [],
   "source": [
    "#export\n",
    "def up_conv_layer(in_channels, out_channels, kernel_size, stride, padding, scale_factor):\n",
    "    return nn.Sequential(\n",
    "        conv_layer(in_channels, out_channels, kernel_size, stride, padding),\n",
    "        nn.Upsample(scale_factor=scale_factor, mode='bilinear', align_corners=True)\n",
    "    )"
   ]
  },
  {
   "cell_type": "code",
   "execution_count": 8,
   "metadata": {
    "ExecuteTime": {
     "end_time": "2020-10-09T17:10:55.304545Z",
     "start_time": "2020-10-09T17:10:55.299462Z"
    }
   },
   "outputs": [],
   "source": [
    "#export\n",
    "def get_encoder(in_channels, layout_encoder):\n",
    "    prev_out_channels = in_channels\n",
    "    encoder = []\n",
    "    for layout_layer in layout_encoder:\n",
    "        layer = []\n",
    "        for layout_conv in layout_layer:\n",
    "            layer.append(conv_layer(prev_out_channels, *layout_conv))\n",
    "            prev_out_channels = layout_conv[0]\n",
    "        encoder.append(nn.Sequential(*layer))\n",
    "    return nn.Sequential(*encoder)"
   ]
  },
  {
   "cell_type": "code",
   "execution_count": 9,
   "metadata": {
    "ExecuteTime": {
     "end_time": "2020-10-09T17:10:55.311604Z",
     "start_time": "2020-10-09T17:10:55.305628Z"
    }
   },
   "outputs": [],
   "source": [
    "#export\n",
    "class UNET_QAT(nn.Module):\n",
    "    def __init__(self, encoder, out_channels):\n",
    "        super(UNET_QAT, self).__init__()\n",
    "        self.encoder = encoder\n",
    "        self.decoder = self._get_decoder(encoder)\n",
    "        self.last_conv = nn.Conv2d(get_out_channels(self.decoder), \n",
    "                                   out_channels, \n",
    "                                   kernel_size=3, \n",
    "                                   stride=1, \n",
    "                                   padding=1)\n",
    "        self.quant   = QuantStub()\n",
    "        self.dequant = DeQuantStub()\n",
    "        \n",
    "    def _get_decoder(self, encoder):\n",
    "        # Assumes each level of encoder shrinks by a factor of 2\n",
    "        decoder = []\n",
    "        for i in reversed(range(len(encoder))):\n",
    "            in_channels = get_out_channels(encoder[i])\n",
    "            if len(decoder) > 0: \n",
    "                in_channels += get_out_channels(decoder[-1])\n",
    "            decoder.append(up_conv_layer(in_channels,\n",
    "                                         get_out_channels(encoder[i])//2,\n",
    "                                         kernel_size=3,\n",
    "                                         stride=1,\n",
    "                                         padding=1,\n",
    "                                         scale_factor=2))\n",
    "        return nn.Sequential(*decoder)\n",
    "\n",
    "    def forward(self, X):\n",
    "        X = self.quant(X)\n",
    "        \n",
    "        Xs = [X]\n",
    "        for conv_down in self.encoder:\n",
    "            Xs.append(conv_down(Xs[-1]))\n",
    "        X = Xs[-1][:,0:0,:,:] # Empty, but same size and dimension as last X\n",
    "        for idx, conv_up in enumerate(self.decoder):\n",
    "            X = conv_up(torch.cat([X, Xs[-(idx+1)]], dim=1))\n",
    "        X = self.last_conv(X)\n",
    "        \n",
    "        X = self.dequant(X)\n",
    "        return X"
   ]
  },
  {
   "cell_type": "code",
   "execution_count": 10,
   "metadata": {
    "ExecuteTime": {
     "end_time": "2020-10-09T17:10:55.325181Z",
     "start_time": "2020-10-09T17:10:55.312614Z"
    }
   },
   "outputs": [],
   "source": [
    "in_channels  = 1\n",
    "out_channels = 5\n",
    "layout_encoder = [[[32,5,2,2]],\n",
    "                  [[32,3,1,1],[32,3,2,1]],\n",
    "                  [[64,3,1,1],[64,3,2,1]],\n",
    "                  [[128,3,1,1],[128,3,2,1]]]\n",
    "model = UNET_QAT(get_encoder(in_channels, layout_encoder), out_channels)\n",
    "model = model.eval()"
   ]
  },
  {
   "cell_type": "markdown",
   "metadata": {},
   "source": [
    "check model"
   ]
  },
  {
   "cell_type": "code",
   "execution_count": 11,
   "metadata": {
    "ExecuteTime": {
     "end_time": "2020-10-09T17:10:55.330244Z",
     "start_time": "2020-10-09T17:10:55.326261Z"
    }
   },
   "outputs": [
    {
     "data": {
      "text/plain": [
       "UNET_QAT(\n",
       "  (encoder): Sequential(\n",
       "    (0): Sequential(\n",
       "      (0): ConvReLU2d(\n",
       "        (0): Conv2d(1, 32, kernel_size=(5, 5), stride=(2, 2), padding=(2, 2))\n",
       "        (1): ReLU(inplace=True)\n",
       "      )\n",
       "    )\n",
       "    (1): Sequential(\n",
       "      (0): ConvReLU2d(\n",
       "        (0): Conv2d(32, 32, kernel_size=(3, 3), stride=(1, 1), padding=(1, 1))\n",
       "        (1): ReLU(inplace=True)\n",
       "      )\n",
       "      (1): ConvReLU2d(\n",
       "        (0): Conv2d(32, 32, kernel_size=(3, 3), stride=(2, 2), padding=(1, 1))\n",
       "        (1): ReLU(inplace=True)\n",
       "      )\n",
       "    )\n",
       "    (2): Sequential(\n",
       "      (0): ConvReLU2d(\n",
       "        (0): Conv2d(32, 64, kernel_size=(3, 3), stride=(1, 1), padding=(1, 1))\n",
       "        (1): ReLU(inplace=True)\n",
       "      )\n",
       "      (1): ConvReLU2d(\n",
       "        (0): Conv2d(64, 64, kernel_size=(3, 3), stride=(2, 2), padding=(1, 1))\n",
       "        (1): ReLU(inplace=True)\n",
       "      )\n",
       "    )\n",
       "    (3): Sequential(\n",
       "      (0): ConvReLU2d(\n",
       "        (0): Conv2d(64, 128, kernel_size=(3, 3), stride=(1, 1), padding=(1, 1))\n",
       "        (1): ReLU(inplace=True)\n",
       "      )\n",
       "      (1): ConvReLU2d(\n",
       "        (0): Conv2d(128, 128, kernel_size=(3, 3), stride=(2, 2), padding=(1, 1))\n",
       "        (1): ReLU(inplace=True)\n",
       "      )\n",
       "    )\n",
       "  )\n",
       "  (decoder): Sequential(\n",
       "    (0): Sequential(\n",
       "      (0): ConvReLU2d(\n",
       "        (0): Conv2d(128, 64, kernel_size=(3, 3), stride=(1, 1), padding=(1, 1))\n",
       "        (1): ReLU(inplace=True)\n",
       "      )\n",
       "      (1): Upsample(scale_factor=2.0, mode=bilinear)\n",
       "    )\n",
       "    (1): Sequential(\n",
       "      (0): ConvReLU2d(\n",
       "        (0): Conv2d(128, 32, kernel_size=(3, 3), stride=(1, 1), padding=(1, 1))\n",
       "        (1): ReLU(inplace=True)\n",
       "      )\n",
       "      (1): Upsample(scale_factor=2.0, mode=bilinear)\n",
       "    )\n",
       "    (2): Sequential(\n",
       "      (0): ConvReLU2d(\n",
       "        (0): Conv2d(64, 16, kernel_size=(3, 3), stride=(1, 1), padding=(1, 1))\n",
       "        (1): ReLU(inplace=True)\n",
       "      )\n",
       "      (1): Upsample(scale_factor=2.0, mode=bilinear)\n",
       "    )\n",
       "    (3): Sequential(\n",
       "      (0): ConvReLU2d(\n",
       "        (0): Conv2d(48, 16, kernel_size=(3, 3), stride=(1, 1), padding=(1, 1))\n",
       "        (1): ReLU(inplace=True)\n",
       "      )\n",
       "      (1): Upsample(scale_factor=2.0, mode=bilinear)\n",
       "    )\n",
       "  )\n",
       "  (last_conv): Conv2d(16, 5, kernel_size=(3, 3), stride=(1, 1), padding=(1, 1))\n",
       "  (quant): QuantStub()\n",
       "  (dequant): DeQuantStub()\n",
       ")"
      ]
     },
     "execution_count": 11,
     "metadata": {},
     "output_type": "execute_result"
    }
   ],
   "source": [
    "model"
   ]
  },
  {
   "cell_type": "code",
   "execution_count": 12,
   "metadata": {
    "ExecuteTime": {
     "end_time": "2020-10-09T17:10:55.336990Z",
     "start_time": "2020-10-09T17:10:55.331445Z"
    }
   },
   "outputs": [
    {
     "data": {
      "text/plain": [
       "<torch.autograd.grad_mode.set_grad_enabled at 0x7fd0f804ac10>"
      ]
     },
     "execution_count": 12,
     "metadata": {},
     "output_type": "execute_result"
    }
   ],
   "source": [
    "torch.set_grad_enabled(False) "
   ]
  },
  {
   "cell_type": "code",
   "execution_count": 13,
   "metadata": {
    "ExecuteTime": {
     "end_time": "2020-10-09T17:10:55.343106Z",
     "start_time": "2020-10-09T17:10:55.338034Z"
    }
   },
   "outputs": [],
   "source": [
    "X = np.fromfile('batches/X0.raw', dtype=np.float32).reshape(1, 1, 384, 512)\n",
    "X = torch.from_numpy(X)"
   ]
  },
  {
   "cell_type": "code",
   "execution_count": 14,
   "metadata": {
    "ExecuteTime": {
     "end_time": "2020-10-09T17:10:55.394327Z",
     "start_time": "2020-10-09T17:10:55.344251Z"
    }
   },
   "outputs": [
    {
     "name": "stdout",
     "output_type": "stream",
     "text": [
      "-----------------------------  ---------------  ---------------  ---------------  ---------------  ---------------  ---------------  \n",
      "Name                           Self CPU total %  Self CPU total   CPU total %      CPU total        CPU time avg     Number of Calls  \n",
      "-----------------------------  ---------------  ---------------  ---------------  ---------------  ---------------  ---------------  \n",
      "aten::mkldnn_convolution       76.49%           28.151ms         76.75%           28.247ms         2.354ms          12               \n",
      "aten::upsample_bilinear2d      14.80%           5.448ms          14.88%           5.477ms          1.369ms          4                \n",
      "aten::_cat                     3.95%            1.452ms          4.08%            1.503ms          375.650us        4                \n",
      "aten::threshold_               3.12%            1.148ms          3.12%            1.148ms          104.390us        11               \n",
      "aten::_convolution             0.50%            183.214us        77.31%           28.453ms         2.371ms          12               \n",
      "aten::empty                    0.23%            84.406us         0.23%            84.406us         4.220us          20               \n",
      "aten::relu_                    0.20%            74.026us         3.32%            1.222ms          111.120us        11               \n",
      "aten::convolution              0.13%            46.130us         77.44%           28.499ms         2.375ms          12               \n",
      "aten::conv2d                   0.11%            39.707us         77.55%           28.539ms         2.378ms          12               \n",
      "aten::resize_                  0.10%            36.919us         0.10%            36.919us         4.615us          8                \n",
      "aten::cat                      0.10%            35.544us         4.18%            1.538ms          384.536us        4                \n",
      "aten::slice                    0.09%            33.018us         0.12%            43.217us         4.322us          10               \n",
      "aten::contiguous               0.07%            27.141us         0.07%            27.141us         0.617us          44               \n",
      "aten::as_strided_              0.06%            22.850us         0.06%            22.850us         1.904us          12               \n",
      "aten::as_strided               0.03%            10.199us         0.03%            10.199us         1.020us          10               \n",
      "aten::narrow                   0.02%            8.372us          0.07%            26.476us         4.413us          6                \n",
      "aten::stride                   0.00%            1.227us          0.00%            1.227us          0.613us          2                \n",
      "-----------------------------  ---------------  ---------------  ---------------  ---------------  ---------------  ---------------  \n",
      "Self CPU time total: 36.801ms\n",
      "\n"
     ]
    }
   ],
   "source": [
    "with torch.autograd.profiler.profile() as prof:\n",
    "    y = model(X)\n",
    "print(prof.key_averages().table(sort_by=\"self_cpu_time_total\"))"
   ]
  },
  {
   "cell_type": "code",
   "execution_count": 15,
   "metadata": {
    "ExecuteTime": {
     "end_time": "2020-10-09T17:10:57.726931Z",
     "start_time": "2020-10-09T17:10:55.395245Z"
    },
    "deletable": false,
    "editable": false,
    "run_control": {
     "frozen": true
    },
    "scrolled": true
   },
   "outputs": [
    {
     "name": "stdout",
     "output_type": "stream",
     "text": [
      "28 ms ± 2.94 ms per loop (mean ± std. dev. of 7 runs, 10 loops each)\n"
     ]
    }
   ],
   "source": [
    "%%timeit\n",
    "y = model(X)"
   ]
  },
  {
   "cell_type": "code",
   "execution_count": 16,
   "metadata": {
    "ExecuteTime": {
     "end_time": "2020-10-09T17:10:57.731937Z",
     "start_time": "2020-10-09T17:10:57.728324Z"
    },
    "deletable": false,
    "editable": false,
    "run_control": {
     "frozen": true
    }
   },
   "outputs": [
    {
     "data": {
      "text/plain": [
       "0.05070667713880539"
      ]
     },
     "execution_count": 16,
     "metadata": {},
     "output_type": "execute_result"
    }
   ],
   "source": [
    "y[0,0,0,0].item()"
   ]
  },
  {
   "cell_type": "code",
   "execution_count": 17,
   "metadata": {
    "ExecuteTime": {
     "end_time": "2020-10-09T17:10:57.887206Z",
     "start_time": "2020-10-09T17:10:57.733035Z"
    },
    "deletable": false,
    "editable": false,
    "run_control": {
     "frozen": true
    },
    "scrolled": false
   },
   "outputs": [
    {
     "data": {
      "text/plain": [
       "<matplotlib.image.AxesImage at 0x7fd0f5118c10>"
      ]
     },
     "execution_count": 17,
     "metadata": {},
     "output_type": "execute_result"
    },
    {
     "data": {
      "image/png": "[encoded data removed]",
      "text/plain": [
       "<Figure size 504x504 with 1 Axes>"
      ]
     },
     "metadata": {
      "needs_background": "light"
     },
     "output_type": "display_data"
    }
   ],
   "source": [
    "plt.figure(figsize=(7, 7))\n",
    "plt.imshow(y.argmax(dim=1)[0].cpu().numpy(), vmin=0, vmax=4)"
   ]
  },
  {
   "cell_type": "markdown",
   "metadata": {},
   "source": [
    "# Try post training static quantization"
   ]
  },
  {
   "cell_type": "markdown",
   "metadata": {},
   "source": [
    "`fbgemm` is used for x86"
   ]
  },
  {
   "cell_type": "code",
   "execution_count": 18,
   "metadata": {
    "ExecuteTime": {
     "end_time": "2020-10-09T17:10:57.890903Z",
     "start_time": "2020-10-09T17:10:57.888685Z"
    }
   },
   "outputs": [],
   "source": [
    "model.qconfig = torch.quantization.get_default_qconfig('fbgemm')\n",
    "torch.backends.quantized.engine='fbgemm'"
   ]
  },
  {
   "cell_type": "code",
   "execution_count": 19,
   "metadata": {
    "ExecuteTime": {
     "end_time": "2020-10-09T17:10:57.905576Z",
     "start_time": "2020-10-09T17:10:57.891931Z"
    },
    "scrolled": true
   },
   "outputs": [
    {
     "name": "stderr",
     "output_type": "stream",
     "text": [
      "/home/justin/miniconda3/envs/tensorrt/lib/python3.7/site-packages/torch/quantization/observer.py:120: UserWarning: Please use quant_min and quant_max to specify the range for observers.                     reduce_range will be deprecated in a future release of PyTorch.\n",
      "  reduce_range will be deprecated in a future release of PyTorch.\"\n"
     ]
    },
    {
     "data": {
      "text/plain": [
       "UNET_QAT(\n",
       "  (encoder): Sequential(\n",
       "    (0): Sequential(\n",
       "      (0): ConvReLU2d(\n",
       "        (0): Conv2d(\n",
       "          1, 32, kernel_size=(5, 5), stride=(2, 2), padding=(2, 2)\n",
       "          (activation_post_process): HistogramObserver()\n",
       "        )\n",
       "        (1): ReLU(\n",
       "          inplace=True\n",
       "          (activation_post_process): HistogramObserver()\n",
       "        )\n",
       "      )\n",
       "    )\n",
       "    (1): Sequential(\n",
       "      (0): ConvReLU2d(\n",
       "        (0): Conv2d(\n",
       "          32, 32, kernel_size=(3, 3), stride=(1, 1), padding=(1, 1)\n",
       "          (activation_post_process): HistogramObserver()\n",
       "        )\n",
       "        (1): ReLU(\n",
       "          inplace=True\n",
       "          (activation_post_process): HistogramObserver()\n",
       "        )\n",
       "      )\n",
       "      (1): ConvReLU2d(\n",
       "        (0): Conv2d(\n",
       "          32, 32, kernel_size=(3, 3), stride=(2, 2), padding=(1, 1)\n",
       "          (activation_post_process): HistogramObserver()\n",
       "        )\n",
       "        (1): ReLU(\n",
       "          inplace=True\n",
       "          (activation_post_process): HistogramObserver()\n",
       "        )\n",
       "      )\n",
       "    )\n",
       "    (2): Sequential(\n",
       "      (0): ConvReLU2d(\n",
       "        (0): Conv2d(\n",
       "          32, 64, kernel_size=(3, 3), stride=(1, 1), padding=(1, 1)\n",
       "          (activation_post_process): HistogramObserver()\n",
       "        )\n",
       "        (1): ReLU(\n",
       "          inplace=True\n",
       "          (activation_post_process): HistogramObserver()\n",
       "        )\n",
       "      )\n",
       "      (1): ConvReLU2d(\n",
       "        (0): Conv2d(\n",
       "          64, 64, kernel_size=(3, 3), stride=(2, 2), padding=(1, 1)\n",
       "          (activation_post_process): HistogramObserver()\n",
       "        )\n",
       "        (1): ReLU(\n",
       "          inplace=True\n",
       "          (activation_post_process): HistogramObserver()\n",
       "        )\n",
       "      )\n",
       "    )\n",
       "    (3): Sequential(\n",
       "      (0): ConvReLU2d(\n",
       "        (0): Conv2d(\n",
       "          64, 128, kernel_size=(3, 3), stride=(1, 1), padding=(1, 1)\n",
       "          (activation_post_process): HistogramObserver()\n",
       "        )\n",
       "        (1): ReLU(\n",
       "          inplace=True\n",
       "          (activation_post_process): HistogramObserver()\n",
       "        )\n",
       "      )\n",
       "      (1): ConvReLU2d(\n",
       "        (0): Conv2d(\n",
       "          128, 128, kernel_size=(3, 3), stride=(2, 2), padding=(1, 1)\n",
       "          (activation_post_process): HistogramObserver()\n",
       "        )\n",
       "        (1): ReLU(\n",
       "          inplace=True\n",
       "          (activation_post_process): HistogramObserver()\n",
       "        )\n",
       "      )\n",
       "    )\n",
       "  )\n",
       "  (decoder): Sequential(\n",
       "    (0): Sequential(\n",
       "      (0): ConvReLU2d(\n",
       "        (0): Conv2d(\n",
       "          128, 64, kernel_size=(3, 3), stride=(1, 1), padding=(1, 1)\n",
       "          (activation_post_process): HistogramObserver()\n",
       "        )\n",
       "        (1): ReLU(\n",
       "          inplace=True\n",
       "          (activation_post_process): HistogramObserver()\n",
       "        )\n",
       "      )\n",
       "      (1): Upsample(scale_factor=2.0, mode=bilinear)\n",
       "    )\n",
       "    (1): Sequential(\n",
       "      (0): ConvReLU2d(\n",
       "        (0): Conv2d(\n",
       "          128, 32, kernel_size=(3, 3), stride=(1, 1), padding=(1, 1)\n",
       "          (activation_post_process): HistogramObserver()\n",
       "        )\n",
       "        (1): ReLU(\n",
       "          inplace=True\n",
       "          (activation_post_process): HistogramObserver()\n",
       "        )\n",
       "      )\n",
       "      (1): Upsample(scale_factor=2.0, mode=bilinear)\n",
       "    )\n",
       "    (2): Sequential(\n",
       "      (0): ConvReLU2d(\n",
       "        (0): Conv2d(\n",
       "          64, 16, kernel_size=(3, 3), stride=(1, 1), padding=(1, 1)\n",
       "          (activation_post_process): HistogramObserver()\n",
       "        )\n",
       "        (1): ReLU(\n",
       "          inplace=True\n",
       "          (activation_post_process): HistogramObserver()\n",
       "        )\n",
       "      )\n",
       "      (1): Upsample(scale_factor=2.0, mode=bilinear)\n",
       "    )\n",
       "    (3): Sequential(\n",
       "      (0): ConvReLU2d(\n",
       "        (0): Conv2d(\n",
       "          48, 16, kernel_size=(3, 3), stride=(1, 1), padding=(1, 1)\n",
       "          (activation_post_process): HistogramObserver()\n",
       "        )\n",
       "        (1): ReLU(\n",
       "          inplace=True\n",
       "          (activation_post_process): HistogramObserver()\n",
       "        )\n",
       "      )\n",
       "      (1): Upsample(scale_factor=2.0, mode=bilinear)\n",
       "    )\n",
       "  )\n",
       "  (last_conv): Conv2d(\n",
       "    16, 5, kernel_size=(3, 3), stride=(1, 1), padding=(1, 1)\n",
       "    (activation_post_process): HistogramObserver()\n",
       "  )\n",
       "  (quant): QuantStub(\n",
       "    (activation_post_process): HistogramObserver()\n",
       "  )\n",
       "  (dequant): DeQuantStub()\n",
       ")"
      ]
     },
     "execution_count": 19,
     "metadata": {},
     "output_type": "execute_result"
    }
   ],
   "source": [
    "torch.quantization.prepare(model, inplace=True)"
   ]
  },
  {
   "cell_type": "markdown",
   "metadata": {},
   "source": [
    "Must calibrate"
   ]
  },
  {
   "cell_type": "code",
   "execution_count": 20,
   "metadata": {
    "ExecuteTime": {
     "end_time": "2020-10-09T17:11:32.655539Z",
     "start_time": "2020-10-09T17:10:57.906748Z"
    }
   },
   "outputs": [],
   "source": [
    "for file_batch in Path('batches').glob('*.raw'):\n",
    "    X = np.fromfile(file_batch, dtype=np.float32).reshape(1, 1, 384, 512)\n",
    "    X = torch.from_numpy(X)\n",
    "    y = model(X)"
   ]
  },
  {
   "cell_type": "code",
   "execution_count": 21,
   "metadata": {
    "ExecuteTime": {
     "end_time": "2020-10-09T17:11:33.255065Z",
     "start_time": "2020-10-09T17:11:32.656628Z"
    },
    "scrolled": false
   },
   "outputs": [
    {
     "data": {
      "text/plain": [
       "UNET_QAT(\n",
       "  (encoder): Sequential(\n",
       "    (0): Sequential(\n",
       "      (0): QuantizedConvReLU2d(1, 32, kernel_size=(5, 5), stride=(2, 2), scale=0.013090508058667183, zero_point=0, padding=(2, 2))\n",
       "    )\n",
       "    (1): Sequential(\n",
       "      (0): QuantizedConvReLU2d(32, 32, kernel_size=(3, 3), stride=(1, 1), scale=0.006067873444408178, zero_point=0, padding=(1, 1))\n",
       "      (1): QuantizedConvReLU2d(32, 32, kernel_size=(3, 3), stride=(2, 2), scale=0.002087924163788557, zero_point=0, padding=(1, 1))\n",
       "    )\n",
       "    (2): Sequential(\n",
       "      (0): QuantizedConvReLU2d(32, 64, kernel_size=(3, 3), stride=(1, 1), scale=0.0009947983780875802, zero_point=0, padding=(1, 1))\n",
       "      (1): QuantizedConvReLU2d(64, 64, kernel_size=(3, 3), stride=(2, 2), scale=0.0006304592243395746, zero_point=0, padding=(1, 1))\n",
       "    )\n",
       "    (3): Sequential(\n",
       "      (0): QuantizedConvReLU2d(64, 128, kernel_size=(3, 3), stride=(1, 1), scale=0.0004800032766070217, zero_point=0, padding=(1, 1))\n",
       "      (1): QuantizedConvReLU2d(128, 128, kernel_size=(3, 3), stride=(2, 2), scale=0.00032450319849886, zero_point=0, padding=(1, 1))\n",
       "    )\n",
       "  )\n",
       "  (decoder): Sequential(\n",
       "    (0): Sequential(\n",
       "      (0): QuantizedConvReLU2d(128, 64, kernel_size=(3, 3), stride=(1, 1), scale=0.0003621129726525396, zero_point=0, padding=(1, 1))\n",
       "      (1): Upsample(scale_factor=2.0, mode=bilinear)\n",
       "    )\n",
       "    (1): Sequential(\n",
       "      (0): QuantizedConvReLU2d(128, 32, kernel_size=(3, 3), stride=(1, 1), scale=0.000332282274030149, zero_point=0, padding=(1, 1))\n",
       "      (1): Upsample(scale_factor=2.0, mode=bilinear)\n",
       "    )\n",
       "    (2): Sequential(\n",
       "      (0): QuantizedConvReLU2d(64, 16, kernel_size=(3, 3), stride=(1, 1), scale=0.0008076027152128518, zero_point=0, padding=(1, 1))\n",
       "      (1): Upsample(scale_factor=2.0, mode=bilinear)\n",
       "    )\n",
       "    (3): Sequential(\n",
       "      (0): QuantizedConvReLU2d(48, 16, kernel_size=(3, 3), stride=(1, 1), scale=0.004190873354673386, zero_point=0, padding=(1, 1))\n",
       "      (1): Upsample(scale_factor=2.0, mode=bilinear)\n",
       "    )\n",
       "  )\n",
       "  (last_conv): QuantizedConv2d(16, 5, kernel_size=(3, 3), stride=(1, 1), scale=0.0023789843544363976, zero_point=65, padding=(1, 1))\n",
       "  (quant): Quantize(scale=tensor([0.0157]), zero_point=tensor([64]), dtype=torch.quint8)\n",
       "  (dequant): DeQuantize()\n",
       ")"
      ]
     },
     "execution_count": 21,
     "metadata": {},
     "output_type": "execute_result"
    }
   ],
   "source": [
    "torch.quantization.convert(model, inplace=True)"
   ]
  },
  {
   "cell_type": "code",
   "execution_count": 22,
   "metadata": {
    "ExecuteTime": {
     "end_time": "2020-10-09T17:11:33.260643Z",
     "start_time": "2020-10-09T17:11:33.257824Z"
    }
   },
   "outputs": [],
   "source": [
    "X = np.fromfile('batches/X0.raw', dtype=np.float32).reshape(1, 1, 384, 512)\n",
    "X = torch.from_numpy(X)"
   ]
  },
  {
   "cell_type": "code",
   "execution_count": 23,
   "metadata": {
    "ExecuteTime": {
     "end_time": "2020-10-09T17:11:42.951735Z",
     "start_time": "2020-10-09T17:11:33.262415Z"
    }
   },
   "outputs": [
    {
     "name": "stdout",
     "output_type": "stream",
     "text": [
      "---------------------------------  ---------------  ---------------  ---------------  ---------------  ---------------  ---------------  \n",
      "Name                               Self CPU total %  Self CPU total   CPU total %      CPU total        CPU time avg     Number of Calls  \n",
      "---------------------------------  ---------------  ---------------  ---------------  ---------------  ---------------  ---------------  \n",
      "aten::upsample_bilinear2d          65.12%           270.387ms        89.82%           372.934ms        93.234ms         4                \n",
      "aten::q_zero_point                 24.70%           102.551ms        24.70%           102.551ms        0.196us          522267           \n",
      "quantized::conv2d_relu             6.11%            25.381ms         6.18%            25.673ms         2.334ms          11               \n",
      "quantized::conv2d                  2.24%            9.305ms          2.25%            9.329ms          9.329ms          1                \n",
      "aten::_cat                         1.58%            6.560ms          1.64%            6.801ms          1.360ms          5                \n",
      "aten::dequantize                   0.10%            418.820us        0.10%            434.951us        144.984us        3                \n",
      "aten::_empty_affine_quantized      0.03%            137.984us        0.03%            137.984us        6.899us          20               \n",
      "aten::quantize_per_tensor          0.03%            136.987us        0.03%            138.057us        69.029us         2                \n",
      "aten::empty                        0.02%            85.777us         0.02%            85.777us         5.361us          16               \n",
      "aten::copy_                        0.01%            53.676us         0.01%            55.274us         55.274us         1                \n",
      "aten::q_scale                      0.01%            40.909us         0.01%            40.909us         1.169us          35               \n",
      "aten::cat                          0.01%            37.388us         1.65%            6.838ms          1.368ms          5                \n",
      "aten::contiguous                   0.01%            28.400us         0.02%            101.742us        3.508us          29               \n",
      "aten::slice                        0.01%            22.880us         0.01%            31.607us         5.268us          6                \n",
      "aten::as_strided                   0.00%            8.727us          0.00%            8.727us          1.455us          6                \n",
      "aten::_local_scalar_dense          0.00%            6.999us          0.00%            6.999us          3.500us          2                \n",
      "aten::qscheme                      0.00%            6.796us          0.00%            6.796us          0.680us          10               \n",
      "aten::empty_like                   0.00%            6.752us          0.00%            18.068us         18.068us         1                \n",
      "aten::item                         0.00%            5.460us          0.00%            12.459us         6.229us          2                \n",
      "aten::narrow                       0.00%            3.045us          0.00%            9.201us          4.601us          2                \n",
      "aten::resize_                      0.00%            2.798us          0.00%            2.798us          2.798us          1                \n",
      "aten::set_quantizer_               0.00%            1.039us          0.00%            1.039us          1.039us          1                \n",
      "---------------------------------  ---------------  ---------------  ---------------  ---------------  ---------------  ---------------  \n",
      "Self CPU time total: 415.189ms\n",
      "\n"
     ]
    }
   ],
   "source": [
    "with torch.autograd.profiler.profile() as prof:\n",
    "    y = model(X)\n",
    "print(prof.key_averages().table(sort_by=\"self_cpu_time_total\"))"
   ]
  },
  {
   "cell_type": "code",
   "execution_count": 24,
   "metadata": {
    "ExecuteTime": {
     "end_time": "2020-10-09T17:11:48.076915Z",
     "start_time": "2020-10-09T17:11:42.953390Z"
    },
    "deletable": false,
    "editable": false,
    "run_control": {
     "frozen": true
    },
    "scrolled": true
   },
   "outputs": [
    {
     "name": "stdout",
     "output_type": "stream",
     "text": [
      "62.7 ms ± 4.47 ms per loop (mean ± std. dev. of 7 runs, 10 loops each)\n"
     ]
    }
   ],
   "source": [
    "%%timeit\n",
    "y = model(X)"
   ]
  },
  {
   "cell_type": "code",
   "execution_count": 25,
   "metadata": {
    "ExecuteTime": {
     "end_time": "2020-10-09T17:11:48.081859Z",
     "start_time": "2020-10-09T17:11:48.079014Z"
    },
    "deletable": false,
    "editable": false,
    "run_control": {
     "frozen": true
    }
   },
   "outputs": [
    {
     "data": {
      "text/plain": [
       "0.04995867237448692"
      ]
     },
     "execution_count": 25,
     "metadata": {},
     "output_type": "execute_result"
    }
   ],
   "source": [
    "y[0,0,0,0].item()"
   ]
  },
  {
   "cell_type": "code",
   "execution_count": 26,
   "metadata": {
    "ExecuteTime": {
     "end_time": "2020-10-09T17:11:48.231379Z",
     "start_time": "2020-10-09T17:11:48.083085Z"
    },
    "deletable": false,
    "editable": false,
    "run_control": {
     "frozen": true
    }
   },
   "outputs": [
    {
     "data": {
      "text/plain": [
       "<matplotlib.image.AxesImage at 0x7fd0f4fd9390>"
      ]
     },
     "execution_count": 26,
     "metadata": {},
     "output_type": "execute_result"
    },
    {
     "data": {
      "image/png": "[encoded data removed]",
      "text/plain": [
       "<Figure size 504x504 with 1 Axes>"
      ]
     },
     "metadata": {
      "needs_background": "light"
     },
     "output_type": "display_data"
    }
   ],
   "source": [
    "plt.figure(figsize=(7, 7))\n",
    "plt.imshow(y.argmax(dim=1)[0].cpu().numpy(), vmin=0, vmax=4)"
   ]
  },
  {
   "cell_type": "markdown",
   "metadata": {},
   "source": [
    "Slower results and incorrect inference... Does not look promising..."
   ]
  },
  {
   "cell_type": "code",
   "execution_count": null,
   "metadata": {},
   "outputs": [],
   "source": []
  }
 ],
 "metadata": {
  "kernelspec": {
   "display_name": "Python 3",
   "language": "python",
   "name": "python3"
  },
  "language_info": {
   "codemirror_mode": {
    "name": "ipython",
    "version": 3
   },
   "file_extension": ".py",
   "mimetype": "text/x-python",
   "name": "python",
   "nbconvert_exporter": "python",
   "pygments_lexer": "ipython3",
   "version": "3.7.7"
  },
  "varInspector": {
   "cols": {
    "lenName": 16,
    "lenType": 16,
    "lenVar": 40
   },
   "kernels_config": {
    "python": {
     "delete_cmd_postfix": "",
     "delete_cmd_prefix": "del ",
     "library": "var_list.py",
     "varRefreshCmd": "print(var_dic_list())"
    },
    "r": {
     "delete_cmd_postfix": ") ",
     "delete_cmd_prefix": "rm(",
     "library": "var_list.r",
     "varRefreshCmd": "cat(var_dic_list()) "
    }
   },
   "oldHeight": 766.85,
   "position": {
    "height": "788.85px",
    "left": "1068px",
    "right": "20px",
    "top": "118px",
    "width": "354px"
   },
   "types_to_exclude": [
    "module",
    "function",
    "builtin_function_or_method",
    "instance",
    "_Feature"
   ],
   "varInspector_section_display": "block",
   "window_display": false
  }
 },
 "nbformat": 4,
 "nbformat_minor": 2
}
