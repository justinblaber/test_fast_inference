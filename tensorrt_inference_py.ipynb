{
 "cells": [
  {
   "cell_type": "code",
   "execution_count": 1,
   "metadata": {
    "ExecuteTime": {
     "end_time": "2020-10-20T21:04:33.304041Z",
     "start_time": "2020-10-20T21:04:33.301544Z"
    }
   },
   "outputs": [],
   "source": [
    "# default_exp tensorrt_inference_py"
   ]
  },
  {
   "cell_type": "markdown",
   "metadata": {
    "ExecuteTime": {
     "end_time": "2020-10-06T17:18:20.357131Z",
     "start_time": "2020-10-06T17:18:20.354135Z"
    }
   },
   "source": [
    "This is really just for command-line testing/profiling purposes. Call this like:\n",
    "    \n",
    "`nvprof python test_fast_inference/tensorrt_inference_py.py <path to model.engine> <path to X.raw>`\n",
    "\n",
    "In order to profile it and check if tensor core instructions are being used. As the name suggests, this performs inference with tensorrt using the python API."
   ]
  },
  {
   "cell_type": "code",
   "execution_count": 2,
   "metadata": {
    "ExecuteTime": {
     "end_time": "2020-10-20T21:04:33.896797Z",
     "start_time": "2020-10-20T21:04:33.306207Z"
    }
   },
   "outputs": [],
   "source": [
    "# export\n",
    "import pycuda.autoinit\n",
    "import pycuda.driver as cuda\n",
    "\n",
    "import fire\n",
    "import torch\n",
    "import numpy as np\n",
    "import tensorrt as trt\n",
    "import matplotlib.pyplot as plt"
   ]
  },
  {
   "cell_type": "code",
   "execution_count": 3,
   "metadata": {
    "ExecuteTime": {
     "end_time": "2020-10-20T21:04:33.902663Z",
     "start_time": "2020-10-20T21:04:33.898355Z"
    }
   },
   "outputs": [
    {
     "data": {
      "text/plain": [
       "True"
      ]
     },
     "execution_count": 3,
     "metadata": {},
     "output_type": "execute_result"
    }
   ],
   "source": [
    "# export\n",
    "trt.init_libnvinfer_plugins(None, '') # This will load additional plugins (like instance norm layer)"
   ]
  },
  {
   "cell_type": "code",
   "execution_count": 4,
   "metadata": {
    "ExecuteTime": {
     "end_time": "2020-10-20T21:04:33.912061Z",
     "start_time": "2020-10-20T21:04:33.905379Z"
    }
   },
   "outputs": [],
   "source": [
    "# export\n",
    "def tensorrt_inference(file_engine, file_batch, plot=False):\n",
    "    # Load engine\n",
    "    runtime = trt.Runtime(trt.Logger(trt.Logger.VERBOSE))\n",
    "    with open(file_engine, 'rb') as f:\n",
    "        engine = runtime.deserialize_cuda_engine(f.read())\n",
    "    context = engine.create_execution_context()    \n",
    "    \n",
    "    # Allocate buffers\n",
    "    X_h = cuda.pagelocked_empty(trt.volume(engine.get_binding_shape(0)), dtype=np.float32)\n",
    "    y_h = cuda.pagelocked_empty(trt.volume(engine.get_binding_shape(1)), dtype=np.float32)\n",
    "    X_d = cuda.mem_alloc(X_h.nbytes)\n",
    "    y_d = cuda.mem_alloc(y_h.nbytes)\n",
    "    \n",
    "    # Read batch - assumes this is stored as float and already pre-processed\n",
    "    with open(file_batch, 'rb') as f:\n",
    "        f.readinto(X_h)\n",
    "\n",
    "    # Inference\n",
    "    stream = cuda.Stream()\n",
    "    cuda.memcpy_htod_async(X_d, X_h, stream)\n",
    "    context.execute_async(bindings=[int(X_d), int(y_d)], stream_handle=stream.handle)\n",
    "    cuda.memcpy_dtoh_async(y_h, y_d, stream)\n",
    "    stream.synchronize()\n",
    "    y_h = y_h.reshape(engine.get_binding_shape(1))\n",
    "    y = torch.from_numpy(y_h).argmax(dim=1).squeeze(axis=0)\n",
    "    \n",
    "    if plot:\n",
    "        plt.imshow(y, vmin=0, vmax=4)\n",
    "        plt.show()\n",
    "    \n",
    "    return y"
   ]
  },
  {
   "cell_type": "code",
   "execution_count": 5,
   "metadata": {
    "ExecuteTime": {
     "end_time": "2020-10-20T21:04:35.315021Z",
     "start_time": "2020-10-20T21:04:33.913003Z"
    }
   },
   "outputs": [],
   "source": [
    "file_engine = 'training/attempt_2/model_8.engine'\n",
    "file_batch  = 'batches_trn/X0.raw'\n",
    "y = tensorrt_inference(file_engine, file_batch)"
   ]
  },
  {
   "cell_type": "code",
   "execution_count": 6,
   "metadata": {
    "ExecuteTime": {
     "end_time": "2020-10-20T21:04:35.414818Z",
     "start_time": "2020-10-20T21:04:35.316495Z"
    }
   },
   "outputs": [
    {
     "data": {
      "image/png": "[encoded data removed]",
      "text/plain": [
       "<Figure size 648x648 with 1 Axes>"
      ]
     },
     "metadata": {
      "needs_background": "light"
     },
     "output_type": "display_data"
    }
   ],
   "source": [
    "plt.figure(figsize=(9, 9))\n",
    "plt.imshow(y, vmin=0, vmax=4, cmap='gray')\n",
    "plt.axis('off');"
   ]
  },
  {
   "cell_type": "code",
   "execution_count": null,
   "metadata": {
    "ExecuteTime": {
     "end_time": "2020-10-17T16:38:56.304686Z",
     "start_time": "2020-10-17T16:38:56.300628Z"
    },
    "deletable": false,
    "editable": false,
    "run_control": {
     "frozen": true
    }
   },
   "outputs": [],
   "source": [
    "# export\n",
    "if __name__ == '__main__':\n",
    "    fire.Fire(tensorrt_inference)"
   ]
  },
  {
   "cell_type": "markdown",
   "metadata": {},
   "source": [
    "# Build"
   ]
  },
  {
   "cell_type": "code",
   "execution_count": 7,
   "metadata": {
    "ExecuteTime": {
     "end_time": "2020-10-20T21:04:35.865150Z",
     "start_time": "2020-10-20T21:04:35.416268Z"
    }
   },
   "outputs": [
    {
     "name": "stdout",
     "output_type": "stream",
     "text": [
      "Converted tensorrt_inference_py.ipynb.\r\n"
     ]
    }
   ],
   "source": [
    "!nbdev_build_lib --fname tensorrt_inference_py.ipynb"
   ]
  }
 ],
 "metadata": {
  "kernelspec": {
   "display_name": "Python 3",
   "language": "python",
   "name": "python3"
  },
  "language_info": {
   "codemirror_mode": {
    "name": "ipython",
    "version": 3
   },
   "file_extension": ".py",
   "mimetype": "text/x-python",
   "name": "python",
   "nbconvert_exporter": "python",
   "pygments_lexer": "ipython3",
   "version": "3.7.7"
  },
  "varInspector": {
   "cols": {
    "lenName": 16,
    "lenType": 16,
    "lenVar": 40
   },
   "kernels_config": {
    "python": {
     "delete_cmd_postfix": "",
     "delete_cmd_prefix": "del ",
     "library": "var_list.py",
     "varRefreshCmd": "print(var_dic_list())"
    },
    "r": {
     "delete_cmd_postfix": ") ",
     "delete_cmd_prefix": "rm(",
     "library": "var_list.r",
     "varRefreshCmd": "cat(var_dic_list()) "
    }
   },
   "oldHeight": 766.85,
   "position": {
    "height": "788.85px",
    "left": "1068px",
    "right": "20px",
    "top": "118px",
    "width": "354px"
   },
   "types_to_exclude": [
    "module",
    "function",
    "builtin_function_or_method",
    "instance",
    "_Feature"
   ],
   "varInspector_section_display": "block",
   "window_display": false
  }
 },
 "nbformat": 4,
 "nbformat_minor": 2
}
